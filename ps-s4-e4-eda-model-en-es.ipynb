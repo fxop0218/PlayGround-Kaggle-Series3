{
 "cells": [
  {
   "cell_type": "markdown",
   "id": "35d7a95c",
   "metadata": {
    "papermill": {
     "duration": 0.018303,
     "end_time": "2024-04-04T07:06:48.043186",
     "exception": false,
     "start_time": "2024-04-04T07:06:48.024883",
     "status": "completed"
    },
    "tags": []
   },
   "source": [
    "# <p style=\"font-family:Consolas Mono; font-weight:normal; letter-spacing: 2px; color:#37FABC; font-size:160%; text-align:center;padding: 0px; border-bottom: 5px solid #407A68\">PlayGround Series S4 E4 EDA and simple model</p>"
   ]
  },
  {
   "cell_type": "markdown",
   "id": "4ea76a0d",
   "metadata": {
    "papermill": {
     "duration": 0.017783,
     "end_time": "2024-04-04T07:06:48.079566",
     "exception": false,
     "start_time": "2024-04-04T07:06:48.061783",
     "status": "completed"
    },
    "tags": []
   },
   "source": [
    "## <p style=\"font-family:Consolas Mono; font-weight:normal; letter-spacing: 2px; color:#06D1C7; font-size:130%; text-align:left;padding: 0px; border-bottom: 5px solid #008F77\">Intro</p>\n",
    "\n",
    "**🟦EN**:\n",
    "<div class=\"alert alert-block alert-info\" style=\"font-size:14px; font-family:verdana; line-height: 1.7em; color:#5361fc;\">\n",
    "This Kaggle workbook aims to provide a comprehensive exploratory data analysis (EDA) and a set of simple models (which will not be optimized), but which can give a vague idea of how to choose the best model for the given data set, with the ultimate goal of making decisions.\n",
    "Through this EDA, we will be able to get a deeper understanding of the structure of the data, the values that have a relationship between them and the missing values and pattern or outliers that may affect when performing the modeling or selecting the model we want to use for prediction/recommendation. By performing an EDA, we can identify potential pitfalls and make the decisions and subsequent processing necessary to improve the performance and accuracy of the models.\n",
    "</div>\n",
    "\n",
    "**🟥ES**: \n",
    "<div class=\"alert alert-block alert-info\" style=\"font-size:14px; font-family:verdana; line-height: 1.7em; background-color: #c9b1fa; color:#38196e;\">\n",
    "Este cuaderno Kaggle tiene el objetivo proporcionar un análisis exploratorio de datos (AED) exhaustivo y un conjunto de modelos simples (los cuales no estarán optimizados), pero que pueden llegar a dar una vaga idea para escoger el mejor modelo, para el conjunto de datos dado, con el objetivo final de tomar decisiones.\n",
    "\n",
    "A través de este AED, podremos obtener una comprensión más profunda de la estructura de los datos, los valores que tiene una relación entre ellos y los valores que faltan y patrón o valores anómalos que pueda afectar a la hora de realizar el modelado o seleccionar el modelo que queremos utilizar para la predicción / recomendación. Al realizar un EDA, podemos identificar posibles obstáculos y tomar las decisiones, y posteriormente el procesado necesario para mejorar el rendimiento y la precisión de los modelos.\n",
    "</div>"
   ]
  },
  {
   "cell_type": "markdown",
   "id": "0dad3a87",
   "metadata": {
    "papermill": {
     "duration": 0.01756,
     "end_time": "2024-04-04T07:06:48.115036",
     "exception": false,
     "start_time": "2024-04-04T07:06:48.097476",
     "status": "completed"
    },
    "tags": []
   },
   "source": [
    "## <p style=\"font-family:Consolas Mono; font-weight:normal; letter-spacing: 2px; color:#06D1C7; font-size:130%; text-align:left;padding: 0px; border-bottom: 3px solid #008F77\">Data information</p>\n",
    "\n",
    "**🟦EN**:\n",
    "\n",
    "# Dataset Description\n",
    "\n",
    "## Overview\n",
    "The dataset for this competition (both train and test) was generated from a deep learning model trained on the Abalone dataset. Feature distributions are close to, but not exactly the same, as the original. Feel free to use the original dataset as part of this competition, both to explore differences as well as to see whether incorporating the original in training improves model performance.\n",
    "\n",
    "## Files\n",
    "- `train.csv` - the training dataset; Rings is the integer target\n",
    "- `test.csv` - the test dataset; your objective is to predict the value of Rings for each row\n",
    "- `sample_submission.csv` - a sample submission file in the correct format\n",
    "\n",
    "## Variable Information\n",
    "| Sex           | Feature         | Categorical/Continuous | Description                                      | Units    | Has Nulls |\n",
    "|---------------|-----------------|------------------------|--------------------------------------------------|----------|-----------|\n",
    "| Sex           | Feature         | Categorical            | M, F, and I (infant)                             | -        | No        |\n",
    "| Length        | Feature         | Continuous             | Longest shell measurement                        | mm       | No        |\n",
    "| Diameter      | Feature         | Continuous             | Perpendicular to length                          | mm       | No        |\n",
    "| Height        | Feature         | Continuous             | With meat in shell                               | mm       | No        |\n",
    "| Whole_weight  | Feature         | Continuous             | Whole abalone                                    | grams    | No        |\n",
    "| Shucked_weight| Feature         | Continuous             | Weight of meat                                   | grams    | No        |\n",
    "| Viscera_weight| Feature         | Continuous             | Gut weight (after bleeding)                      | grams    | No        |\n",
    "| Shell_weight  | Feature         | Continuous             | After being dried                                | grams    | No        |\n",
    "| Rings         | Target          | Integer                | +1.5 gives the age in years                      | -        | No        |\n",
    "\n",
    "\n",
    "\n",
    "**🟥ES**:\n",
    "\n",
    "# Descripción del Conjunto de Datos\n",
    "\n",
    "## Visión General\n",
    "El conjunto de datos para esta competición (tanto de entrenamiento como de prueba) se generó a partir de un modelo de aprendizaje profundo entrenado en el conjunto de datos Abalone. Las distribuciones de las características son similares, aunque no exactamente iguales, a las del original. Siéntete libre de utilizar el conjunto de datos original como parte de esta competición, tanto para explorar las diferencias como para ver si la incorporación del original en el entrenamiento mejora el rendimiento del modelo.\n",
    "\n",
    "\n",
    "## Archivos\n",
    "- `train.csv` - el conjunto de datos de entrenamiento; Rings es el objetivo entero\n",
    "- `test.csv` - el conjunto de datos de prueba; su objetivo es predecir el valor de Rings para cada fila\n",
    "- `sample_submission.csv` - un archivo de envío de muestra en el formato correcto\n",
    "\n",
    "## Información de las Variables\n",
    "| Sexo          | Característica  | Categórico/Continuo | Descripción                                      | Unidades | Tiene Nulos |\n",
    "|---------------|-----------------|---------------------|--------------------------------------------------|----------|-------------|\n",
    "| Sex           | Feature         | Categórico          | M, F, y I (infante)                              | -        | No          |\n",
    "| Length        | Feature         | Continuo             | Medida más larga de la concha                   | mm       | No          |\n",
    "| Diámetro      | Feature         | Continuo             | Perpendicular a la longitud                      | mm       | No          |\n",
    "| Altura        | Feature         | Continuo             | Con carne en la concha                           | mm       | No          |\n",
    "| Peso entero   | Feature         | Continuo             | Abulón completo                                  | gramos   | No          |\n",
    "| Peso desh.    | Feature         | Continuo             | Peso de la carne                                 | gramos   | No          |\n",
    "| Peso víscera  | Feature         | Continuo             | Peso de las vísceras (después del sangrado)      | gramos   | No          |\n",
    "| Peso concha   | Feature         | Continuo             | Después de estar seca                            | gramos   | No          |\n",
    "| Anillos       | Target          | Entero               | +1.5 años de edad                                | -        | No          |\n"
   ]
  },
  {
   "cell_type": "markdown",
   "id": "6c5f8437",
   "metadata": {
    "papermill": {
     "duration": 0.017583,
     "end_time": "2024-04-04T07:06:48.151542",
     "exception": false,
     "start_time": "2024-04-04T07:06:48.133959",
     "status": "completed"
    },
    "tags": []
   },
   "source": [
    "## <p style=\"font-family:Consolas Mono; font-weight:normal; letter-spacing: 2px; color:#06D1C7; font-size:130%; text-align:left;padding: 0px; border-bottom: 3px solid #008F77\">Library import</p>"
   ]
  },
  {
   "cell_type": "code",
   "execution_count": 1,
   "id": "d6e905a5",
   "metadata": {
    "_cell_guid": "b1076dfc-b9ad-4769-8c92-a6c4dae69d19",
    "_uuid": "8f2839f25d086af736a60e9eeb907d3b93b6e0e5",
    "execution": {
     "iopub.execute_input": "2024-04-04T07:06:48.189954Z",
     "iopub.status.busy": "2024-04-04T07:06:48.189163Z",
     "iopub.status.idle": "2024-04-04T07:06:54.056778Z",
     "shell.execute_reply": "2024-04-04T07:06:54.055413Z"
    },
    "papermill": {
     "duration": 5.890542,
     "end_time": "2024-04-04T07:06:54.059963",
     "exception": false,
     "start_time": "2024-04-04T07:06:48.169421",
     "status": "completed"
    },
    "tags": []
   },
   "outputs": [],
   "source": [
    "import os \n",
    "import sys\n",
    "import math\n",
    "import time\n",
    "import optuna\n",
    "import random\n",
    "import warnings\n",
    "import numpy as np \n",
    "import pandas as pd\n",
    "import xgboost as xgb\n",
    "import seaborn as sns\n",
    "import lightgbm as lgb\n",
    "import missingno as msno\n",
    "import plotly.express as px\n",
    "import matplotlib.pyplot as plt\n",
    "import plotly.graph_objects as go\n",
    "import matplotlib.colors as mcolors\n",
    "\n",
    "from xgboost import XGBRegressor\n",
    "from lightgbm import LGBMRegressor\n",
    "from sklearn.pipeline import Pipeline\n",
    "from catboost import CatBoostRegressor\n",
    "from sklearn.metrics import mean_squared_error\n",
    "from sklearn.model_selection import StratifiedKFold\n",
    "from sklearn.metrics import confusion_matrix, roc_auc_score\n",
    "from sklearn.model_selection import StratifiedKFold, cross_val_score"
   ]
  },
  {
   "cell_type": "code",
   "execution_count": 2,
   "id": "5bc31c5e",
   "metadata": {
    "execution": {
     "iopub.execute_input": "2024-04-04T07:06:54.101428Z",
     "iopub.status.busy": "2024-04-04T07:06:54.099888Z",
     "iopub.status.idle": "2024-04-04T07:06:54.107896Z",
     "shell.execute_reply": "2024-04-04T07:06:54.106923Z"
    },
    "papermill": {
     "duration": 0.033242,
     "end_time": "2024-04-04T07:06:54.111314",
     "exception": false,
     "start_time": "2024-04-04T07:06:54.078072",
     "status": "completed"
    },
    "tags": []
   },
   "outputs": [],
   "source": [
    "# Put theme of notebook \n",
    "from colorama import Fore, Style\n",
    "\n",
    "# Colors\n",
    "red = Fore.RED + Style.BRIGHT\n",
    "mgta = Fore.MAGENTA + Style.BRIGHT\n",
    "yllw = Fore.YELLOW + Style.BRIGHT\n",
    "cyn = Fore.CYAN + Style.BRIGHT\n",
    "blue = Fore.BLUE + Style.BRIGHT\n",
    "\n",
    "# Reset\n",
    "res = Style.RESET_ALL\n",
    "plt.style.use({\"figure.facecolor\": \"#282a36\"})"
   ]
  },
  {
   "cell_type": "code",
   "execution_count": 3,
   "id": "ad778579",
   "metadata": {
    "execution": {
     "iopub.execute_input": "2024-04-04T07:06:54.162900Z",
     "iopub.status.busy": "2024-04-04T07:06:54.162031Z",
     "iopub.status.idle": "2024-04-04T07:06:54.355903Z",
     "shell.execute_reply": "2024-04-04T07:06:54.354045Z"
    },
    "papermill": {
     "duration": 0.225525,
     "end_time": "2024-04-04T07:06:54.360557",
     "exception": false,
     "start_time": "2024-04-04T07:06:54.135032",
     "status": "completed"
    },
    "tags": []
   },
   "outputs": [
    {
     "data": {
      "image/png": "[encoded data removed]",
      "text/plain": [
       "<Figure size 700x100 with 1 Axes>"
      ]
     },
     "metadata": {},
     "output_type": "display_data"
    }
   ],
   "source": [
    "# Colors\n",
    "YELLOW = \"#F7C53E\"\n",
    "\n",
    "CYAN_G = \"#0CF7AF\"\n",
    "CYAB_DARK = \"#11AB7C\"\n",
    "\n",
    "PURPLE = \"#D826F8\"\n",
    "PURPLE_DARJ = \"#9309AB\"\n",
    "PURPLE_L = \"#b683d6\"\n",
    "\n",
    "BLUE = \"#0C97FA\"\n",
    "RED = \"#FA1D19\"\n",
    "ORANGE = \"#FA9F19\"\n",
    "GREEN = \"#0CFA58\"\n",
    "LIGTH_BLUE = \"#01FADC\"\n",
    "S_BLUE = \"#81c9e6\"\n",
    "DARK_BLUE = \"#394be6\"\n",
    "# Palettes\n",
    "PALETTE_2 = [CYAN_G, PURPLE]\n",
    "PALETTE_3 = [YELLOW, CYAN_G, PURPLE]\n",
    "PALETTE_4 = [YELLOW, ORANGE, PURPLE, LIGTH_BLUE]\n",
    "PALETTE_5 = [PURPLE_DARJ, PURPLE_L, PURPLE, BLUE, LIGTH_BLUE]\n",
    "PALETTE_6 = [BLUE, RED, ORANGE, GREEN, LIGTH_BLUE, PURPLE]\n",
    "\n",
    "# Vaporwave palette by Francesc Oliveras\n",
    "PALETTE_7 = [PURPLE_DARJ, PURPLE_L, PURPLE, BLUE, LIGTH_BLUE, DARK_BLUE, S_BLUE]\n",
    "PALETTE_7_C = [PURPLE_DARJ, BLUE, PURPLE, LIGTH_BLUE, PURPLE_L, S_BLUE, DARK_BLUE]\n",
    "sns.palplot(sns.color_palette(PALETTE_7))\n",
    "\n",
    "# Set Style\n",
    "sns.set_style(\"whitegrid\")\n",
    "sns.despine(left=True, bottom=True)\n",
    "\n",
    "cmap = mcolors.LinearSegmentedColormap.from_list(\"\", PALETTE_2)\n",
    "cmap_2 = mcolors.LinearSegmentedColormap.from_list(\"\", [S_BLUE, PURPLE_DARJ])\n",
    "\n",
    "font_family = dict(layout=go.Layout(font=dict(family=\"Franklin Gothic\", size=10), width=1000, height=500))\n",
    "\n",
    "warnings.filterwarnings('ignore')"
   ]
  },
  {
   "cell_type": "markdown",
   "id": "c8f770ca",
   "metadata": {
    "papermill": {
     "duration": 0.032121,
     "end_time": "2024-04-04T07:06:54.433230",
     "exception": false,
     "start_time": "2024-04-04T07:06:54.401109",
     "status": "completed"
    },
    "tags": []
   },
   "source": [
    "## <p style=\"font-family:Consolas Mono; font-weight:normal; letter-spacing: 2px; color:#06D1C7; font-size:130%; text-align:left;padding: 0px; border-bottom: 3px solid #008F77\">Constants</p>"
   ]
  },
  {
   "cell_type": "code",
   "execution_count": 4,
   "id": "4025265b",
   "metadata": {
    "execution": {
     "iopub.execute_input": "2024-04-04T07:06:54.472139Z",
     "iopub.status.busy": "2024-04-04T07:06:54.471340Z",
     "iopub.status.idle": "2024-04-04T07:06:54.477954Z",
     "shell.execute_reply": "2024-04-04T07:06:54.477040Z"
    },
    "papermill": {
     "duration": 0.029108,
     "end_time": "2024-04-04T07:06:54.480606",
     "exception": false,
     "start_time": "2024-04-04T07:06:54.451498",
     "status": "completed"
    },
    "tags": []
   },
   "outputs": [],
   "source": [
    "PATH = \"/kaggle/input/playground-series-s4e4\"\n",
    "SUBMISSION_FILENAME = \"sample_submission.csv\"\n",
    "TEST_FILENAME = \"test.csv\"\n",
    "TRAIN_FILENAME = \"train.csv\"\n",
    "\n",
    "TARGET = \"Rings\"\n",
    "\n",
    "SUBMISSION_DIR = os.path.join(PATH, SUBMISSION_FILENAME)\n",
    "TRAIN_DIR = os.path.join(PATH, TRAIN_FILENAME) \n",
    "TEST_DIR = os.path.join(PATH, TEST_FILENAME)\n",
    "\n",
    "ORIGINAL_PATH = \"/kaggle/input/abalone-dataset/abalone.csv\"\n",
    "\n",
    "SEED = 42\n",
    "METRIC = 'rmse'\n",
    "LOSS_FUN = \"RMSE\"\n",
    "N_SPLITS = 5"
   ]
  },
  {
   "cell_type": "markdown",
   "id": "8fc68dfd",
   "metadata": {
    "papermill": {
     "duration": 0.025826,
     "end_time": "2024-04-04T07:06:54.529817",
     "exception": false,
     "start_time": "2024-04-04T07:06:54.503991",
     "status": "completed"
    },
    "tags": []
   },
   "source": [
    "## <p style=\"font-family:Consolas Mono; font-weight:normal; letter-spacing: 2px; color:#06D1C7; font-size:130%; text-align:left;padding: 0px; border-bottom: 3px solid #008F77\">Functions</p>"
   ]
  },
  {
   "cell_type": "code",
   "execution_count": 5,
   "id": "c5507444",
   "metadata": {
    "execution": {
     "iopub.execute_input": "2024-04-04T07:06:54.574370Z",
     "iopub.status.busy": "2024-04-04T07:06:54.573878Z",
     "iopub.status.idle": "2024-04-04T07:06:54.582562Z",
     "shell.execute_reply": "2024-04-04T07:06:54.581357Z"
    },
    "papermill": {
     "duration": 0.034256,
     "end_time": "2024-04-04T07:06:54.585530",
     "exception": false,
     "start_time": "2024-04-04T07:06:54.551274",
     "status": "completed"
    },
    "tags": []
   },
   "outputs": [],
   "source": [
    "def show_corr_heatmap(df, title):\n",
    "    \n",
    "    corr = df.corr()\n",
    "    mask = np.zeros_like(corr)\n",
    "    mask[np.triu_indices_from(mask)] = True\n",
    "\n",
    "    plt.figure(figsize = (15, 10))\n",
    "    plt.title(title)\n",
    "    # sns.heatmap(corr, annot = False, linewidths=.5, fmt=\".2f\", square=True, mask = mask, cmap=cmap_2)\n",
    "    if df.shape[1] < 25:\n",
    "        sns.heatmap(corr, annot=True, linewidths=.5, fmt=\".2f\", square=True, mask=mask, cmap=cmap_2)\n",
    "    else:\n",
    "        sns.heatmap(corr, annot=False, linewidths=.5, square=True, mask=mask, cmap=cmap_2)\n",
    "\n",
    "    plt.show()"
   ]
  },
  {
   "cell_type": "code",
   "execution_count": 6,
   "id": "591fcf72",
   "metadata": {
    "execution": {
     "iopub.execute_input": "2024-04-04T07:06:54.624851Z",
     "iopub.status.busy": "2024-04-04T07:06:54.624355Z",
     "iopub.status.idle": "2024-04-04T07:06:54.632340Z",
     "shell.execute_reply": "2024-04-04T07:06:54.631097Z"
    },
    "papermill": {
     "duration": 0.02999,
     "end_time": "2024-04-04T07:06:54.634686",
     "exception": false,
     "start_time": "2024-04-04T07:06:54.604696",
     "status": "completed"
    },
    "tags": []
   },
   "outputs": [],
   "source": [
    "def data_description(df):\n",
    "    print(\"Data description\")\n",
    "    print(f\"Total number of records {df.shape[0]}\")\n",
    "    print(f'number of features {df.shape[1]}\\n\\n')\n",
    "    columns = df.columns\n",
    "    data_type = []\n",
    "    \n",
    "    # Get the datatype of features\n",
    "    for col in df.columns:\n",
    "        data_type.append(df[col].dtype)\n",
    "        \n",
    "    n_uni = df.nunique()\n",
    "    # Number of NaN values\n",
    "    n_miss = df.isna().sum()\n",
    "    \n",
    "    names = list(zip(columns, data_type, n_uni, n_miss))\n",
    "    variable_desc = pd.DataFrame(names, columns=[\"Name\",\"Type\",\"Unique levels\",\"Missing\"])\n",
    "    print(variable_desc)"
   ]
  },
  {
   "cell_type": "code",
   "execution_count": 7,
   "id": "66a522f3",
   "metadata": {
    "execution": {
     "iopub.execute_input": "2024-04-04T07:06:54.673083Z",
     "iopub.status.busy": "2024-04-04T07:06:54.672637Z",
     "iopub.status.idle": "2024-04-04T07:06:54.680382Z",
     "shell.execute_reply": "2024-04-04T07:06:54.679045Z"
    },
    "papermill": {
     "duration": 0.029892,
     "end_time": "2024-04-04T07:06:54.682769",
     "exception": false,
     "start_time": "2024-04-04T07:06:54.652877",
     "status": "completed"
    },
    "tags": []
   },
   "outputs": [],
   "source": [
    "def plot_cont(col, ax, color=PALETTE_7[0]):\n",
    "    sns.histplot(data=comb_df, x=col,\n",
    "                hue=\"set\",ax=ax, hue_order=labels,\n",
    "                common_norm=False, **histplot_hyperparams)\n",
    "    \n",
    "    ax_2 = ax.twinx()\n",
    "    ax_2 = plot_cont_dot(\n",
    "        comb_df.query('set==\"train\"'),\n",
    "        col, TARGET, ax_2,\n",
    "        color=color\n",
    "    )\n",
    "    \n",
    "    ax_2 = plot_cont_dot(\n",
    "        comb_df, col,\n",
    "        TARGET, ax_2,\n",
    "        color=color\n",
    "    )"
   ]
  },
  {
   "cell_type": "code",
   "execution_count": 8,
   "id": "d18ca915",
   "metadata": {
    "execution": {
     "iopub.execute_input": "2024-04-04T07:06:54.722171Z",
     "iopub.status.busy": "2024-04-04T07:06:54.721743Z",
     "iopub.status.idle": "2024-04-04T07:06:54.730365Z",
     "shell.execute_reply": "2024-04-04T07:06:54.729055Z"
    },
    "papermill": {
     "duration": 0.031193,
     "end_time": "2024-04-04T07:06:54.732878",
     "exception": false,
     "start_time": "2024-04-04T07:06:54.701685",
     "status": "completed"
    },
    "tags": []
   },
   "outputs": [],
   "source": [
    "def show_pie_mult(dataframe, target = TARGET):\n",
    "    target_counts = dataframe[target].sum()\n",
    "\n",
    "    # Creando el gráfico de pastel con un agujero en el centro\n",
    "    fig, ax = plt.subplots(figsize=(10, 8))\n",
    "    wedges, texts, autotexts = ax.pie(target_counts, labels=target, autopct='%1.1f%%', startangle=140, colors=PALETTE_7_C)\n",
    "\n",
    "    # Agregando un círculo blanco en el centro para hacer un agujero\n",
    "    centre_circle = plt.Circle((0,0),0.70,fc='white')\n",
    "    fig = plt.gcf()\n",
    "    fig.gca().add_artist(centre_circle)\n",
    "\n",
    "    # Ajustando el aspecto para que sea un círculo y mostrando el gráfico\n",
    "    plt.title('Distribución de los Targets')\n",
    "    plt.axis('equal')\n",
    "    plt.tight_layout()\n",
    "    plt.show()"
   ]
  },
  {
   "cell_type": "code",
   "execution_count": 9,
   "id": "530d84ca",
   "metadata": {
    "execution": {
     "iopub.execute_input": "2024-04-04T07:06:54.771683Z",
     "iopub.status.busy": "2024-04-04T07:06:54.771208Z",
     "iopub.status.idle": "2024-04-04T07:06:54.778819Z",
     "shell.execute_reply": "2024-04-04T07:06:54.777619Z"
    },
    "papermill": {
     "duration": 0.030186,
     "end_time": "2024-04-04T07:06:54.781346",
     "exception": false,
     "start_time": "2024-04-04T07:06:54.751160",
     "status": "completed"
    },
    "tags": []
   },
   "outputs": [],
   "source": [
    "def show_box_plot(dataframe):\n",
    "    # numerical_features_for_boxplot = train_df.select_dtypes(include=['int64', 'float64']).columns.drop('id')\n",
    "    numerical_features_for_boxplot = dataframe.select_dtypes(include=['int64', 'float64'])\n",
    "\n",
    "    plt.figure(figsize=(20, 15))\n",
    "\n",
    "    for i, feature in enumerate(numerical_features_for_boxplot, 1):\n",
    "        plt.subplot(7, 5, i)\n",
    "        sns.boxplot(y=train_df[feature], color=PALETTE_7_C[i % len(PALETTE_7_C)])\n",
    "        plt.title(feature)\n",
    "\n",
    "    plt.tight_layout()\n",
    "    plt.show()\n"
   ]
  },
  {
   "cell_type": "code",
   "execution_count": 10,
   "id": "95ec0d94",
   "metadata": {
    "execution": {
     "iopub.execute_input": "2024-04-04T07:06:54.821999Z",
     "iopub.status.busy": "2024-04-04T07:06:54.821562Z",
     "iopub.status.idle": "2024-04-04T07:06:54.829509Z",
     "shell.execute_reply": "2024-04-04T07:06:54.828004Z"
    },
    "papermill": {
     "duration": 0.031537,
     "end_time": "2024-04-04T07:06:54.832785",
     "exception": false,
     "start_time": "2024-04-04T07:06:54.801248",
     "status": "completed"
    },
    "tags": []
   },
   "outputs": [],
   "source": [
    "def show_hist(dataframe):\n",
    "    # Filtrando las columnas numéricas para sus histogramas\n",
    "    numerical_features = train_df.select_dtypes(include=['int64', 'float64']).columns\n",
    "\n",
    "    # Configurando el tamaño de la figura\n",
    "    plt.figure(figsize=(20, 15))\n",
    "\n",
    "    # Creando un histograma para cada característica numérica\n",
    "    for i, feature in enumerate(numerical_features, 1):\n",
    "        plt.subplot(7, 5, i) # Ajustar según el número de características numéricas\n",
    "        dataframe[feature].hist(bins=20, color=PALETTE_7_C[int(i%7)])\n",
    "        plt.title(feature)\n",
    "\n",
    "    plt.tight_layout()\n",
    "    plt.show()"
   ]
  },
  {
   "cell_type": "code",
   "execution_count": 11,
   "id": "c49b98ac",
   "metadata": {
    "execution": {
     "iopub.execute_input": "2024-04-04T07:06:54.870901Z",
     "iopub.status.busy": "2024-04-04T07:06:54.870488Z",
     "iopub.status.idle": "2024-04-04T07:06:54.878677Z",
     "shell.execute_reply": "2024-04-04T07:06:54.877369Z"
    },
    "papermill": {
     "duration": 0.030167,
     "end_time": "2024-04-04T07:06:54.881145",
     "exception": false,
     "start_time": "2024-04-04T07:06:54.850978",
     "status": "completed"
    },
    "tags": []
   },
   "outputs": [],
   "source": [
    "def model_cross_val(X, y, model, cv=5):\n",
    "        sf = StratifiedKFold(n_splits = cv, shuffle = True, random_state = SEED)\n",
    "        scores = []\n",
    "        for j, (train_index, valid_index) in enumerate(sf.split(X, y)):\n",
    "            X_train, y_train = X.iloc[train_index], y_log.iloc[train_index]\n",
    "            X_valid, y_valid = X.iloc[valid_index], y_log.iloc[valid_index]\n",
    "            model.fit(X_train, y_train)\n",
    "            y_pred = model.predict(X_valid)\n",
    "            scores = mean_squared_error(y_valid, y_pred, squared = False)\n",
    "        return np.mean(scores)"
   ]
  },
  {
   "cell_type": "code",
   "execution_count": 12,
   "id": "99cc42d4",
   "metadata": {
    "execution": {
     "iopub.execute_input": "2024-04-04T07:06:54.919500Z",
     "iopub.status.busy": "2024-04-04T07:06:54.919049Z",
     "iopub.status.idle": "2024-04-04T07:06:54.928969Z",
     "shell.execute_reply": "2024-04-04T07:06:54.927748Z"
    },
    "papermill": {
     "duration": 0.03189,
     "end_time": "2024-04-04T07:06:54.931509",
     "exception": false,
     "start_time": "2024-04-04T07:06:54.899619",
     "status": "completed"
    },
    "tags": []
   },
   "outputs": [],
   "source": [
    "def create_lgbm(trial):\n",
    "    params = {\n",
    "        \"objective\": \"regression\",\n",
    "        \"metric\": METRIC,\n",
    "        \"verbosity\": -1,\n",
    "        \"boosting_type\": \"gbdt\",\n",
    "        \"bagging_freq\": 1,\n",
    "        \"random_state\": SEED,\n",
    "        \"n_jobs\": -1,\n",
    "        \"n_estimators\": trial.suggest_int(\"n_estimators\", 400, 600),\n",
    "        \"learning_rate\": trial.suggest_float(\"learning_rate\", 0.01, 0.05),\n",
    "        \"subsample\": trial.suggest_float(\"subsample\", 0.05, 1.0),\n",
    "        \"colsample_bytree\": trial.suggest_float(\"colsample_bytree\", 0.3, 0.9),\n",
    "        \"min_data_in_leaf\": trial.suggest_int(\"min_data_in_leaf\", 1, 100),\n",
    "        \"lambda_l1\": trial.suggest_float(\"lambda_l1\", 0.005, 0.015),\n",
    "        \"lambda_l2\": trial.suggest_float(\"lambda_l2\", 0.02, 0.06),\n",
    "        \"max_depth\": trial.suggest_int(\"max_depth\", 6, 16),\n",
    "        \"min_child_samples\": trial.suggest_int(\"min_child_samples\", 10, 60),\n",
    "    }\n",
    "    \n",
    "    return LGBMRegressor(**params)"
   ]
  },
  {
   "cell_type": "code",
   "execution_count": 13,
   "id": "7efe78d8",
   "metadata": {
    "execution": {
     "iopub.execute_input": "2024-04-04T07:06:54.971331Z",
     "iopub.status.busy": "2024-04-04T07:06:54.970666Z",
     "iopub.status.idle": "2024-04-04T07:06:54.979682Z",
     "shell.execute_reply": "2024-04-04T07:06:54.978319Z"
    },
    "papermill": {
     "duration": 0.031566,
     "end_time": "2024-04-04T07:06:54.982136",
     "exception": false,
     "start_time": "2024-04-04T07:06:54.950570",
     "status": "completed"
    },
    "tags": []
   },
   "outputs": [],
   "source": [
    "def create_xgboost(trial):\n",
    "    params = {\n",
    "        \"n_estimators\": trial.suggest_int(\"n_estimators\", 100, 1000),\n",
    "        \"max_depth\": trial.suggest_int(\"max_depth\", 2, 20),\n",
    "        \"learning_rate\": trial.suggest_float(\"learning_rate\", 1e-3, 0.1, log=True),\n",
    "        \"subsample\": trial.suggest_float(\"subsample\", 0.05, 1.0),\n",
    "        \"colsample_bytree\": trial.suggest_float(\"colsample_bytree\", 0.05, 1.0),\n",
    "        \"min_child_weight\": trial.suggest_int(\"min_child_weight\", 2, 20),\n",
    "        \"gamma\": trial.suggest_float(\"gamma\", 1e-2, 1.0),\n",
    "        \"objective\": \"reg:squarederror\",\n",
    "        \"eval_metric\":  METRIC,\n",
    "        \"random_state\": SEED,\n",
    "    }\n",
    "    \n",
    "    return XGBRegressor(**params)"
   ]
  },
  {
   "cell_type": "code",
   "execution_count": 14,
   "id": "bc652884",
   "metadata": {
    "execution": {
     "iopub.execute_input": "2024-04-04T07:06:55.021671Z",
     "iopub.status.busy": "2024-04-04T07:06:55.021231Z",
     "iopub.status.idle": "2024-04-04T07:06:55.028706Z",
     "shell.execute_reply": "2024-04-04T07:06:55.027567Z"
    },
    "papermill": {
     "duration": 0.030116,
     "end_time": "2024-04-04T07:06:55.031051",
     "exception": false,
     "start_time": "2024-04-04T07:06:55.000935",
     "status": "completed"
    },
    "tags": []
   },
   "outputs": [],
   "source": [
    "def create_random_forest(trial):\n",
    "    params = {\n",
    "        \"n_estimators\": trial.suggest_int(\"n_estimators\", 100, 1000),\n",
    "        \"max_depth\": trial.suggest_int(\"max_depth\", 2, 20),\n",
    "        \"max_features\": trial.suggest_categorical(\"max_features\", [\"sqrt\", \"log2\"]),\n",
    "        \"criterion\": trial.suggest_categorical(\"criterion\", [\"gini\", \"entropy\", \"log_loss\"]),\n",
    "        \"random_state\": SEED,\n",
    "        \"n_jobs\": -1,\n",
    "    }\n",
    "    \n",
    "    return RandomForestRegressor(**params)"
   ]
  },
  {
   "cell_type": "code",
   "execution_count": 15,
   "id": "038e4217",
   "metadata": {
    "execution": {
     "iopub.execute_input": "2024-04-04T07:06:55.070765Z",
     "iopub.status.busy": "2024-04-04T07:06:55.070362Z",
     "iopub.status.idle": "2024-04-04T07:06:55.077537Z",
     "shell.execute_reply": "2024-04-04T07:06:55.076563Z"
    },
    "papermill": {
     "duration": 0.030522,
     "end_time": "2024-04-04T07:06:55.080081",
     "exception": false,
     "start_time": "2024-04-04T07:06:55.049559",
     "status": "completed"
    },
    "tags": []
   },
   "outputs": [],
   "source": [
    "def objective_cat(trial, X, y):\n",
    "    params = {\n",
    "        \"iterations\": 1000,\n",
    "        \"loss_function\": LOSS_FUN,\n",
    "        \"learning_rate\": trial.suggest_float(\"learning_rate\", 1e-3, 0.1, log=True),\n",
    "        \"depth\": trial.suggest_int(\"depth\", 1, 10),\n",
    "        \"subsample\": trial.suggest_float(\"subsample\", 0.05, 1.0),\n",
    "        \"colsample_bylevel\": trial.suggest_float(\"colsample_bylevel\", 0.05, 1.0),\n",
    "        \"min_data_in_leaf\": trial.suggest_int(\"min_data_in_leaf\", 1, 100),\n",
    "    }\n",
    "\n",
    "    model = CatBoostRegressor(**params, silent=True)\n",
    "    scores = model_cross_val(X, y, model, cv=5)\n",
    "    return np.mean(scores)"
   ]
  },
  {
   "cell_type": "code",
   "execution_count": 16,
   "id": "ad815bd8",
   "metadata": {
    "execution": {
     "iopub.execute_input": "2024-04-04T07:06:55.190368Z",
     "iopub.status.busy": "2024-04-04T07:06:55.189917Z",
     "iopub.status.idle": "2024-04-04T07:06:55.196524Z",
     "shell.execute_reply": "2024-04-04T07:06:55.195065Z"
    },
    "papermill": {
     "duration": 0.100702,
     "end_time": "2024-04-04T07:06:55.199063",
     "exception": false,
     "start_time": "2024-04-04T07:06:55.098361",
     "status": "completed"
    },
    "tags": []
   },
   "outputs": [],
   "source": [
    "def objective_xgb(trial, X, y):\n",
    "    model = create_xgboost(trial)\n",
    "    scores = model_cross_val(X, y, model, cv=5)\n",
    "    return np.mean(scores)"
   ]
  },
  {
   "cell_type": "code",
   "execution_count": 17,
   "id": "298633e1",
   "metadata": {
    "execution": {
     "iopub.execute_input": "2024-04-04T07:06:55.237987Z",
     "iopub.status.busy": "2024-04-04T07:06:55.237549Z",
     "iopub.status.idle": "2024-04-04T07:06:55.243382Z",
     "shell.execute_reply": "2024-04-04T07:06:55.242131Z"
    },
    "papermill": {
     "duration": 0.028574,
     "end_time": "2024-04-04T07:06:55.245872",
     "exception": false,
     "start_time": "2024-04-04T07:06:55.217298",
     "status": "completed"
    },
    "tags": []
   },
   "outputs": [],
   "source": [
    "def objective_lgb(trial, X, y):\n",
    "    model = create_lgbm(trial)\n",
    "    scores = model_cross_val(X, y, model, cv=5)\n",
    "    return np.mean(scores)"
   ]
  },
  {
   "cell_type": "markdown",
   "id": "06f9a4cc",
   "metadata": {
    "papermill": {
     "duration": 0.018071,
     "end_time": "2024-04-04T07:06:55.282154",
     "exception": false,
     "start_time": "2024-04-04T07:06:55.264083",
     "status": "completed"
    },
    "tags": []
   },
   "source": [
    "## <p style=\"font-family:Consolas Mono; font-weight:normal; letter-spacing: 2px; color:#06D1C7; font-size:130%; text-align:left;padding: 0px; border-bottom: 3px solid #008F77\">Import data</p>"
   ]
  },
  {
   "cell_type": "code",
   "execution_count": 18,
   "id": "7846c4b3",
   "metadata": {
    "execution": {
     "iopub.execute_input": "2024-04-04T07:06:55.320650Z",
     "iopub.status.busy": "2024-04-04T07:06:55.320204Z",
     "iopub.status.idle": "2024-04-04T07:06:55.670241Z",
     "shell.execute_reply": "2024-04-04T07:06:55.668909Z"
    },
    "papermill": {
     "duration": 0.373113,
     "end_time": "2024-04-04T07:06:55.673480",
     "exception": false,
     "start_time": "2024-04-04T07:06:55.300367",
     "status": "completed"
    },
    "tags": []
   },
   "outputs": [],
   "source": [
    "train_df = pd.read_csv(TRAIN_DIR)\n",
    "test_df = pd.read_csv(TEST_DIR)\n",
    "submission_df = pd.read_csv(SUBMISSION_DIR)\n",
    "original_df = pd.read_csv(ORIGINAL_PATH)"
   ]
  },
  {
   "cell_type": "code",
   "execution_count": 19,
   "id": "8d9ce49d",
   "metadata": {
    "execution": {
     "iopub.execute_input": "2024-04-04T07:06:55.712222Z",
     "iopub.status.busy": "2024-04-04T07:06:55.711790Z",
     "iopub.status.idle": "2024-04-04T07:06:55.735688Z",
     "shell.execute_reply": "2024-04-04T07:06:55.734476Z"
    },
    "papermill": {
     "duration": 0.045984,
     "end_time": "2024-04-04T07:06:55.738301",
     "exception": false,
     "start_time": "2024-04-04T07:06:55.692317",
     "status": "completed"
    },
    "tags": []
   },
   "outputs": [
    {
     "data": {
      "text/html": [
       "<div>\n",
       "<style scoped>\n",
       "    .dataframe tbody tr th:only-of-type {\n",
       "        vertical-align: middle;\n",
       "    }\n",
       "\n",
       "    .dataframe tbody tr th {\n",
       "        vertical-align: top;\n",
       "    }\n",
       "\n",
       "    .dataframe thead th {\n",
       "        text-align: right;\n",
       "    }\n",
       "</style>\n",
       "<table border=\"1\" class=\"dataframe\">\n",
       "  <thead>\n",
       "    <tr style=\"text-align: right;\">\n",
       "      <th></th>\n",
       "      <th>id</th>\n",
       "      <th>Sex</th>\n",
       "      <th>Length</th>\n",
       "      <th>Diameter</th>\n",
       "      <th>Height</th>\n",
       "      <th>Whole weight</th>\n",
       "      <th>Whole weight.1</th>\n",
       "      <th>Whole weight.2</th>\n",
       "      <th>Shell weight</th>\n",
       "      <th>Rings</th>\n",
       "    </tr>\n",
       "  </thead>\n",
       "  <tbody>\n",
       "    <tr>\n",
       "      <th>0</th>\n",
       "      <td>0</td>\n",
       "      <td>F</td>\n",
       "      <td>0.550</td>\n",
       "      <td>0.430</td>\n",
       "      <td>0.150</td>\n",
       "      <td>0.7715</td>\n",
       "      <td>0.3285</td>\n",
       "      <td>0.1465</td>\n",
       "      <td>0.2400</td>\n",
       "      <td>11</td>\n",
       "    </tr>\n",
       "    <tr>\n",
       "      <th>1</th>\n",
       "      <td>1</td>\n",
       "      <td>F</td>\n",
       "      <td>0.630</td>\n",
       "      <td>0.490</td>\n",
       "      <td>0.145</td>\n",
       "      <td>1.1300</td>\n",
       "      <td>0.4580</td>\n",
       "      <td>0.2765</td>\n",
       "      <td>0.3200</td>\n",
       "      <td>11</td>\n",
       "    </tr>\n",
       "    <tr>\n",
       "      <th>2</th>\n",
       "      <td>2</td>\n",
       "      <td>I</td>\n",
       "      <td>0.160</td>\n",
       "      <td>0.110</td>\n",
       "      <td>0.025</td>\n",
       "      <td>0.0210</td>\n",
       "      <td>0.0055</td>\n",
       "      <td>0.0030</td>\n",
       "      <td>0.0050</td>\n",
       "      <td>6</td>\n",
       "    </tr>\n",
       "    <tr>\n",
       "      <th>3</th>\n",
       "      <td>3</td>\n",
       "      <td>M</td>\n",
       "      <td>0.595</td>\n",
       "      <td>0.475</td>\n",
       "      <td>0.150</td>\n",
       "      <td>0.9145</td>\n",
       "      <td>0.3755</td>\n",
       "      <td>0.2055</td>\n",
       "      <td>0.2500</td>\n",
       "      <td>10</td>\n",
       "    </tr>\n",
       "    <tr>\n",
       "      <th>4</th>\n",
       "      <td>4</td>\n",
       "      <td>I</td>\n",
       "      <td>0.555</td>\n",
       "      <td>0.425</td>\n",
       "      <td>0.130</td>\n",
       "      <td>0.7820</td>\n",
       "      <td>0.3695</td>\n",
       "      <td>0.1600</td>\n",
       "      <td>0.1975</td>\n",
       "      <td>9</td>\n",
       "    </tr>\n",
       "  </tbody>\n",
       "</table>\n",
       "</div>"
      ],
      "text/plain": [
       "   id Sex  Length  Diameter  Height  Whole weight  Whole weight.1  \\\n",
       "0   0   F   0.550     0.430   0.150        0.7715          0.3285   \n",
       "1   1   F   0.630     0.490   0.145        1.1300          0.4580   \n",
       "2   2   I   0.160     0.110   0.025        0.0210          0.0055   \n",
       "3   3   M   0.595     0.475   0.150        0.9145          0.3755   \n",
       "4   4   I   0.555     0.425   0.130        0.7820          0.3695   \n",
       "\n",
       "   Whole weight.2  Shell weight  Rings  \n",
       "0          0.1465        0.2400     11  \n",
       "1          0.2765        0.3200     11  \n",
       "2          0.0030        0.0050      6  \n",
       "3          0.2055        0.2500     10  \n",
       "4          0.1600        0.1975      9  "
      ]
     },
     "execution_count": 19,
     "metadata": {},
     "output_type": "execute_result"
    }
   ],
   "source": [
    "train_df.head()"
   ]
  },
  {
   "cell_type": "code",
   "execution_count": 20,
   "id": "d4da892a",
   "metadata": {
    "execution": {
     "iopub.execute_input": "2024-04-04T07:06:55.777202Z",
     "iopub.status.busy": "2024-04-04T07:06:55.776768Z",
     "iopub.status.idle": "2024-04-04T07:06:55.800157Z",
     "shell.execute_reply": "2024-04-04T07:06:55.797611Z"
    },
    "papermill": {
     "duration": 0.046036,
     "end_time": "2024-04-04T07:06:55.803022",
     "exception": false,
     "start_time": "2024-04-04T07:06:55.756986",
     "status": "completed"
    },
    "tags": []
   },
   "outputs": [
    {
     "data": {
      "text/plain": [
       "id                0\n",
       "Sex               0\n",
       "Length            0\n",
       "Diameter          0\n",
       "Height            0\n",
       "Whole weight      0\n",
       "Whole weight.1    0\n",
       "Whole weight.2    0\n",
       "Shell weight      0\n",
       "Rings             0\n",
       "dtype: int64"
      ]
     },
     "execution_count": 20,
     "metadata": {},
     "output_type": "execute_result"
    }
   ],
   "source": [
    "train_df.isnull().sum()"
   ]
  },
  {
   "cell_type": "code",
   "execution_count": 21,
   "id": "d08bbd5e",
   "metadata": {
    "execution": {
     "iopub.execute_input": "2024-04-04T07:06:55.843227Z",
     "iopub.status.busy": "2024-04-04T07:06:55.842809Z",
     "iopub.status.idle": "2024-04-04T07:06:55.849967Z",
     "shell.execute_reply": "2024-04-04T07:06:55.848999Z"
    },
    "papermill": {
     "duration": 0.029716,
     "end_time": "2024-04-04T07:06:55.852243",
     "exception": false,
     "start_time": "2024-04-04T07:06:55.822527",
     "status": "completed"
    },
    "tags": []
   },
   "outputs": [],
   "source": [
    "test_id = test_df[\"id\"]"
   ]
  },
  {
   "cell_type": "markdown",
   "id": "6e29511e",
   "metadata": {
    "papermill": {
     "duration": 0.018855,
     "end_time": "2024-04-04T07:06:55.890036",
     "exception": false,
     "start_time": "2024-04-04T07:06:55.871181",
     "status": "completed"
    },
    "tags": []
   },
   "source": [
    "## <p style=\"font-family:Consolas Mono; font-weight:normal; letter-spacing: 2px; color:#06D1C7; font-size:130%; text-align:left;padding: 0px; border-bottom: 3px solid #008F77\">EDA and data modification</p>"
   ]
  },
  {
   "cell_type": "code",
   "execution_count": 22,
   "id": "3f7fccb7",
   "metadata": {
    "execution": {
     "iopub.execute_input": "2024-04-04T07:06:55.930320Z",
     "iopub.status.busy": "2024-04-04T07:06:55.929889Z",
     "iopub.status.idle": "2024-04-04T07:06:56.009291Z",
     "shell.execute_reply": "2024-04-04T07:06:56.007851Z"
    },
    "papermill": {
     "duration": 0.102211,
     "end_time": "2024-04-04T07:06:56.011863",
     "exception": false,
     "start_time": "2024-04-04T07:06:55.909652",
     "status": "completed"
    },
    "tags": []
   },
   "outputs": [
    {
     "name": "stdout",
     "output_type": "stream",
     "text": [
      "Data description\n",
      "Total number of records 90615\n",
      "number of features 10\n",
      "\n",
      "\n",
      "             Name     Type  Unique levels  Missing\n",
      "0              id    int64          90615        0\n",
      "1             Sex   object              3        0\n",
      "2          Length  float64            157        0\n",
      "3        Diameter  float64            126        0\n",
      "4          Height  float64             90        0\n",
      "5    Whole weight  float64           3175        0\n",
      "6  Whole weight.1  float64           1799        0\n",
      "7  Whole weight.2  float64            979        0\n",
      "8    Shell weight  float64           1129        0\n",
      "9           Rings    int64             28        0\n",
      "Data description\n",
      "Total number of records 60411\n",
      "number of features 9\n",
      "\n",
      "\n",
      "             Name     Type  Unique levels  Missing\n",
      "0              id    int64          60411        0\n",
      "1             Sex   object              3        0\n",
      "2          Length  float64            148        0\n",
      "3        Diameter  float64            130        0\n",
      "4          Height  float64             85        0\n",
      "5    Whole weight  float64           3037        0\n",
      "6  Whole weight.1  float64           1747        0\n",
      "7  Whole weight.2  float64            960        0\n",
      "8    Shell weight  float64           1089        0\n",
      "Data description\n",
      "Total number of records 4177\n",
      "number of features 9\n",
      "\n",
      "\n",
      "             Name     Type  Unique levels  Missing\n",
      "0             Sex   object              3        0\n",
      "1          Length  float64            134        0\n",
      "2        Diameter  float64            111        0\n",
      "3          Height  float64             51        0\n",
      "4    Whole weight  float64           2429        0\n",
      "5  Shucked weight  float64           1515        0\n",
      "6  Viscera weight  float64            880        0\n",
      "7    Shell weight  float64            926        0\n",
      "8           Rings    int64             28        0\n"
     ]
    }
   ],
   "source": [
    "data_description(train_df)\n",
    "data_description(test_df)\n",
    "data_description(original_df)"
   ]
  },
  {
   "cell_type": "code",
   "execution_count": 23,
   "id": "d007efc1",
   "metadata": {
    "execution": {
     "iopub.execute_input": "2024-04-04T07:06:56.052905Z",
     "iopub.status.busy": "2024-04-04T07:06:56.052495Z",
     "iopub.status.idle": "2024-04-04T07:06:56.074135Z",
     "shell.execute_reply": "2024-04-04T07:06:56.073174Z"
    },
    "papermill": {
     "duration": 0.045014,
     "end_time": "2024-04-04T07:06:56.076841",
     "exception": false,
     "start_time": "2024-04-04T07:06:56.031827",
     "status": "completed"
    },
    "tags": []
   },
   "outputs": [],
   "source": [
    "train_df = train_df.drop([\"id\"], axis=1)\n",
    "test_df = test_df.drop([\"id\"], axis=1)"
   ]
  },
  {
   "cell_type": "code",
   "execution_count": 24,
   "id": "7553ef19",
   "metadata": {
    "execution": {
     "iopub.execute_input": "2024-04-04T07:06:56.117902Z",
     "iopub.status.busy": "2024-04-04T07:06:56.116638Z",
     "iopub.status.idle": "2024-04-04T07:06:56.987998Z",
     "shell.execute_reply": "2024-04-04T07:06:56.986825Z"
    },
    "papermill": {
     "duration": 0.895047,
     "end_time": "2024-04-04T07:06:56.990928",
     "exception": false,
     "start_time": "2024-04-04T07:06:56.095881",
     "status": "completed"
    },
    "tags": []
   },
   "outputs": [
    {
     "data": {
      "text/plain": [
       "<Axes: >"
      ]
     },
     "execution_count": 24,
     "metadata": {},
     "output_type": "execute_result"
    },
    {
     "data": {
      "image/png": "[encoded data removed]",
      "text/plain": [
       "<Figure size 1500x500 with 2 Axes>"
      ]
     },
     "metadata": {},
     "output_type": "display_data"
    }
   ],
   "source": [
    "msno.matrix(df=train_df, figsize=(15,5), color=(0,0.6,0.5))"
   ]
  },
  {
   "cell_type": "code",
   "execution_count": 25,
   "id": "82e31038",
   "metadata": {
    "execution": {
     "iopub.execute_input": "2024-04-04T07:06:57.034520Z",
     "iopub.status.busy": "2024-04-04T07:06:57.033029Z",
     "iopub.status.idle": "2024-04-04T07:06:57.092923Z",
     "shell.execute_reply": "2024-04-04T07:06:57.091582Z"
    },
    "papermill": {
     "duration": 0.084581,
     "end_time": "2024-04-04T07:06:57.095991",
     "exception": false,
     "start_time": "2024-04-04T07:06:57.011410",
     "status": "completed"
    },
    "tags": []
   },
   "outputs": [],
   "source": [
    "sex_encoded = pd.get_dummies(train_df[\"Sex\"], prefix=\"Sex\")\n",
    "train_df_enc = pd.concat([train_df, sex_encoded], axis=1)\n",
    "train_df_enc = train_df_enc.drop(columns=[\"Sex\"])\n",
    "\n",
    "test_df_enc = pd.concat([test_df, sex_encoded], axis=1)\n",
    "test_df_enc = test_df_enc.drop(columns=[\"Sex\"])\n",
    "\n",
    "original_df_enc = pd.concat([original_df, sex_encoded], axis=1)\n",
    "original_df_enc = original_df_enc.drop(columns=[\"Sex\"])"
   ]
  },
  {
   "cell_type": "code",
   "execution_count": 26,
   "id": "8115a6fe",
   "metadata": {
    "execution": {
     "iopub.execute_input": "2024-04-04T07:06:57.137969Z",
     "iopub.status.busy": "2024-04-04T07:06:57.137050Z",
     "iopub.status.idle": "2024-04-04T07:06:57.146253Z",
     "shell.execute_reply": "2024-04-04T07:06:57.145114Z"
    },
    "papermill": {
     "duration": 0.033037,
     "end_time": "2024-04-04T07:06:57.148898",
     "exception": false,
     "start_time": "2024-04-04T07:06:57.115861",
     "status": "completed"
    },
    "tags": []
   },
   "outputs": [],
   "source": [
    "test_df_enc.dropna(inplace=True)"
   ]
  },
  {
   "cell_type": "code",
   "execution_count": 27,
   "id": "2ecef975",
   "metadata": {
    "execution": {
     "iopub.execute_input": "2024-04-04T07:06:57.192230Z",
     "iopub.status.busy": "2024-04-04T07:06:57.191778Z",
     "iopub.status.idle": "2024-04-04T07:06:57.211796Z",
     "shell.execute_reply": "2024-04-04T07:06:57.210855Z"
    },
    "papermill": {
     "duration": 0.045156,
     "end_time": "2024-04-04T07:06:57.214847",
     "exception": false,
     "start_time": "2024-04-04T07:06:57.169691",
     "status": "completed"
    },
    "tags": []
   },
   "outputs": [
    {
     "data": {
      "text/html": [
       "<div>\n",
       "<style scoped>\n",
       "    .dataframe tbody tr th:only-of-type {\n",
       "        vertical-align: middle;\n",
       "    }\n",
       "\n",
       "    .dataframe tbody tr th {\n",
       "        vertical-align: top;\n",
       "    }\n",
       "\n",
       "    .dataframe thead th {\n",
       "        text-align: right;\n",
       "    }\n",
       "</style>\n",
       "<table border=\"1\" class=\"dataframe\">\n",
       "  <thead>\n",
       "    <tr style=\"text-align: right;\">\n",
       "      <th></th>\n",
       "      <th>Length</th>\n",
       "      <th>Diameter</th>\n",
       "      <th>Height</th>\n",
       "      <th>Whole weight</th>\n",
       "      <th>Whole weight.1</th>\n",
       "      <th>Whole weight.2</th>\n",
       "      <th>Shell weight</th>\n",
       "      <th>Rings</th>\n",
       "      <th>Sex_F</th>\n",
       "      <th>Sex_I</th>\n",
       "      <th>Sex_M</th>\n",
       "    </tr>\n",
       "  </thead>\n",
       "  <tbody>\n",
       "    <tr>\n",
       "      <th>0</th>\n",
       "      <td>0.550</td>\n",
       "      <td>0.430</td>\n",
       "      <td>0.150</td>\n",
       "      <td>0.7715</td>\n",
       "      <td>0.3285</td>\n",
       "      <td>0.1465</td>\n",
       "      <td>0.2400</td>\n",
       "      <td>11</td>\n",
       "      <td>True</td>\n",
       "      <td>False</td>\n",
       "      <td>False</td>\n",
       "    </tr>\n",
       "    <tr>\n",
       "      <th>1</th>\n",
       "      <td>0.630</td>\n",
       "      <td>0.490</td>\n",
       "      <td>0.145</td>\n",
       "      <td>1.1300</td>\n",
       "      <td>0.4580</td>\n",
       "      <td>0.2765</td>\n",
       "      <td>0.3200</td>\n",
       "      <td>11</td>\n",
       "      <td>True</td>\n",
       "      <td>False</td>\n",
       "      <td>False</td>\n",
       "    </tr>\n",
       "    <tr>\n",
       "      <th>2</th>\n",
       "      <td>0.160</td>\n",
       "      <td>0.110</td>\n",
       "      <td>0.025</td>\n",
       "      <td>0.0210</td>\n",
       "      <td>0.0055</td>\n",
       "      <td>0.0030</td>\n",
       "      <td>0.0050</td>\n",
       "      <td>6</td>\n",
       "      <td>False</td>\n",
       "      <td>True</td>\n",
       "      <td>False</td>\n",
       "    </tr>\n",
       "    <tr>\n",
       "      <th>3</th>\n",
       "      <td>0.595</td>\n",
       "      <td>0.475</td>\n",
       "      <td>0.150</td>\n",
       "      <td>0.9145</td>\n",
       "      <td>0.3755</td>\n",
       "      <td>0.2055</td>\n",
       "      <td>0.2500</td>\n",
       "      <td>10</td>\n",
       "      <td>False</td>\n",
       "      <td>False</td>\n",
       "      <td>True</td>\n",
       "    </tr>\n",
       "    <tr>\n",
       "      <th>4</th>\n",
       "      <td>0.555</td>\n",
       "      <td>0.425</td>\n",
       "      <td>0.130</td>\n",
       "      <td>0.7820</td>\n",
       "      <td>0.3695</td>\n",
       "      <td>0.1600</td>\n",
       "      <td>0.1975</td>\n",
       "      <td>9</td>\n",
       "      <td>False</td>\n",
       "      <td>True</td>\n",
       "      <td>False</td>\n",
       "    </tr>\n",
       "  </tbody>\n",
       "</table>\n",
       "</div>"
      ],
      "text/plain": [
       "   Length  Diameter  Height  Whole weight  Whole weight.1  Whole weight.2  \\\n",
       "0   0.550     0.430   0.150        0.7715          0.3285          0.1465   \n",
       "1   0.630     0.490   0.145        1.1300          0.4580          0.2765   \n",
       "2   0.160     0.110   0.025        0.0210          0.0055          0.0030   \n",
       "3   0.595     0.475   0.150        0.9145          0.3755          0.2055   \n",
       "4   0.555     0.425   0.130        0.7820          0.3695          0.1600   \n",
       "\n",
       "   Shell weight  Rings  Sex_F  Sex_I  Sex_M  \n",
       "0        0.2400     11   True  False  False  \n",
       "1        0.3200     11   True  False  False  \n",
       "2        0.0050      6  False   True  False  \n",
       "3        0.2500     10  False  False   True  \n",
       "4        0.1975      9  False   True  False  "
      ]
     },
     "execution_count": 27,
     "metadata": {},
     "output_type": "execute_result"
    }
   ],
   "source": [
    "train_df_enc.head()"
   ]
  },
  {
   "cell_type": "code",
   "execution_count": 28,
   "id": "f3bc6222",
   "metadata": {
    "execution": {
     "iopub.execute_input": "2024-04-04T07:06:57.258084Z",
     "iopub.status.busy": "2024-04-04T07:06:57.257228Z",
     "iopub.status.idle": "2024-04-04T07:06:57.276550Z",
     "shell.execute_reply": "2024-04-04T07:06:57.275379Z"
    },
    "papermill": {
     "duration": 0.043608,
     "end_time": "2024-04-04T07:06:57.279175",
     "exception": false,
     "start_time": "2024-04-04T07:06:57.235567",
     "status": "completed"
    },
    "tags": []
   },
   "outputs": [
    {
     "data": {
      "text/html": [
       "<div>\n",
       "<style scoped>\n",
       "    .dataframe tbody tr th:only-of-type {\n",
       "        vertical-align: middle;\n",
       "    }\n",
       "\n",
       "    .dataframe tbody tr th {\n",
       "        vertical-align: top;\n",
       "    }\n",
       "\n",
       "    .dataframe thead th {\n",
       "        text-align: right;\n",
       "    }\n",
       "</style>\n",
       "<table border=\"1\" class=\"dataframe\">\n",
       "  <thead>\n",
       "    <tr style=\"text-align: right;\">\n",
       "      <th></th>\n",
       "      <th>Length</th>\n",
       "      <th>Diameter</th>\n",
       "      <th>Height</th>\n",
       "      <th>Whole weight</th>\n",
       "      <th>Shucked weight</th>\n",
       "      <th>Viscera weight</th>\n",
       "      <th>Shell weight</th>\n",
       "      <th>Rings</th>\n",
       "      <th>Sex_F</th>\n",
       "      <th>Sex_I</th>\n",
       "      <th>Sex_M</th>\n",
       "    </tr>\n",
       "  </thead>\n",
       "  <tbody>\n",
       "    <tr>\n",
       "      <th>0</th>\n",
       "      <td>0.455</td>\n",
       "      <td>0.365</td>\n",
       "      <td>0.095</td>\n",
       "      <td>0.5140</td>\n",
       "      <td>0.2245</td>\n",
       "      <td>0.1010</td>\n",
       "      <td>0.150</td>\n",
       "      <td>15.0</td>\n",
       "      <td>True</td>\n",
       "      <td>False</td>\n",
       "      <td>False</td>\n",
       "    </tr>\n",
       "    <tr>\n",
       "      <th>1</th>\n",
       "      <td>0.350</td>\n",
       "      <td>0.265</td>\n",
       "      <td>0.090</td>\n",
       "      <td>0.2255</td>\n",
       "      <td>0.0995</td>\n",
       "      <td>0.0485</td>\n",
       "      <td>0.070</td>\n",
       "      <td>7.0</td>\n",
       "      <td>True</td>\n",
       "      <td>False</td>\n",
       "      <td>False</td>\n",
       "    </tr>\n",
       "    <tr>\n",
       "      <th>2</th>\n",
       "      <td>0.530</td>\n",
       "      <td>0.420</td>\n",
       "      <td>0.135</td>\n",
       "      <td>0.6770</td>\n",
       "      <td>0.2565</td>\n",
       "      <td>0.1415</td>\n",
       "      <td>0.210</td>\n",
       "      <td>9.0</td>\n",
       "      <td>False</td>\n",
       "      <td>True</td>\n",
       "      <td>False</td>\n",
       "    </tr>\n",
       "    <tr>\n",
       "      <th>3</th>\n",
       "      <td>0.440</td>\n",
       "      <td>0.365</td>\n",
       "      <td>0.125</td>\n",
       "      <td>0.5160</td>\n",
       "      <td>0.2155</td>\n",
       "      <td>0.1140</td>\n",
       "      <td>0.155</td>\n",
       "      <td>10.0</td>\n",
       "      <td>False</td>\n",
       "      <td>False</td>\n",
       "      <td>True</td>\n",
       "    </tr>\n",
       "    <tr>\n",
       "      <th>4</th>\n",
       "      <td>0.330</td>\n",
       "      <td>0.255</td>\n",
       "      <td>0.080</td>\n",
       "      <td>0.2050</td>\n",
       "      <td>0.0895</td>\n",
       "      <td>0.0395</td>\n",
       "      <td>0.055</td>\n",
       "      <td>7.0</td>\n",
       "      <td>False</td>\n",
       "      <td>True</td>\n",
       "      <td>False</td>\n",
       "    </tr>\n",
       "  </tbody>\n",
       "</table>\n",
       "</div>"
      ],
      "text/plain": [
       "   Length  Diameter  Height  Whole weight  Shucked weight  Viscera weight  \\\n",
       "0   0.455     0.365   0.095        0.5140          0.2245          0.1010   \n",
       "1   0.350     0.265   0.090        0.2255          0.0995          0.0485   \n",
       "2   0.530     0.420   0.135        0.6770          0.2565          0.1415   \n",
       "3   0.440     0.365   0.125        0.5160          0.2155          0.1140   \n",
       "4   0.330     0.255   0.080        0.2050          0.0895          0.0395   \n",
       "\n",
       "   Shell weight  Rings  Sex_F  Sex_I  Sex_M  \n",
       "0         0.150   15.0   True  False  False  \n",
       "1         0.070    7.0   True  False  False  \n",
       "2         0.210    9.0  False   True  False  \n",
       "3         0.155   10.0  False  False   True  \n",
       "4         0.055    7.0  False   True  False  "
      ]
     },
     "execution_count": 28,
     "metadata": {},
     "output_type": "execute_result"
    }
   ],
   "source": [
    "original_df_enc.head()"
   ]
  },
  {
   "cell_type": "code",
   "execution_count": 29,
   "id": "730aa5d4",
   "metadata": {
    "execution": {
     "iopub.execute_input": "2024-04-04T07:06:57.323090Z",
     "iopub.status.busy": "2024-04-04T07:06:57.322208Z",
     "iopub.status.idle": "2024-04-04T07:06:59.657245Z",
     "shell.execute_reply": "2024-04-04T07:06:59.655767Z"
    },
    "papermill": {
     "duration": 2.360186,
     "end_time": "2024-04-04T07:06:59.660347",
     "exception": false,
     "start_time": "2024-04-04T07:06:57.300161",
     "status": "completed"
    },
    "tags": []
   },
   "outputs": [
    {
     "data": {
      "image/png": "[encoded data removed]",
      "text/plain": [
       "<Figure size 1500x1000 with 2 Axes>"
      ]
     },
     "metadata": {},
     "output_type": "display_data"
    },
    {
     "data": {
      "text/plain": [
       "None"
      ]
     },
     "metadata": {},
     "output_type": "display_data"
    },
    {
     "data": {
      "image/png": "[encoded data removed]",
      "text/plain": [
       "<Figure size 1500x1000 with 2 Axes>"
      ]
     },
     "metadata": {},
     "output_type": "display_data"
    },
    {
     "data": {
      "text/plain": [
       "None"
      ]
     },
     "metadata": {},
     "output_type": "display_data"
    },
    {
     "data": {
      "image/png": "[encoded data removed]",
      "text/plain": [
       "<Figure size 1500x1000 with 2 Axes>"
      ]
     },
     "metadata": {},
     "output_type": "display_data"
    },
    {
     "data": {
      "text/plain": [
       "None"
      ]
     },
     "metadata": {},
     "output_type": "display_data"
    }
   ],
   "source": [
    "display(show_corr_heatmap(train_df_enc, \"Train dataframe heatmap\"))\n",
    "display(show_corr_heatmap(test_df_enc, \"Test dataframe heatmap\"))\n",
    "display(show_corr_heatmap(original_df_enc, \"Original datagrame heatmap\"))"
   ]
  },
  {
   "cell_type": "code",
   "execution_count": 30,
   "id": "f0448163",
   "metadata": {
    "execution": {
     "iopub.execute_input": "2024-04-04T07:06:59.715274Z",
     "iopub.status.busy": "2024-04-04T07:06:59.714850Z",
     "iopub.status.idle": "2024-04-04T07:06:59.722037Z",
     "shell.execute_reply": "2024-04-04T07:06:59.720859Z"
    },
    "papermill": {
     "duration": 0.039192,
     "end_time": "2024-04-04T07:06:59.724938",
     "exception": false,
     "start_time": "2024-04-04T07:06:59.685746",
     "status": "completed"
    },
    "tags": []
   },
   "outputs": [
    {
     "data": {
      "text/plain": [
       "Index(['Sex', 'Length', 'Diameter', 'Height', 'Whole weight', 'Whole weight.1',\n",
       "       'Whole weight.2', 'Shell weight', 'Rings'],\n",
       "      dtype='object')"
      ]
     },
     "execution_count": 30,
     "metadata": {},
     "output_type": "execute_result"
    }
   ],
   "source": [
    "train_df.columns"
   ]
  },
  {
   "cell_type": "code",
   "execution_count": 31,
   "id": "f35a819c",
   "metadata": {
    "execution": {
     "iopub.execute_input": "2024-04-04T07:06:59.778005Z",
     "iopub.status.busy": "2024-04-04T07:06:59.777599Z",
     "iopub.status.idle": "2024-04-04T07:07:02.710444Z",
     "shell.execute_reply": "2024-04-04T07:07:02.709119Z"
    },
    "papermill": {
     "duration": 2.962993,
     "end_time": "2024-04-04T07:07:02.713560",
     "exception": false,
     "start_time": "2024-04-04T07:06:59.750567",
     "status": "completed"
    },
    "tags": []
   },
   "outputs": [
    {
     "data": {
      "image/png": "[encoded data removed]",
      "text/plain": [
       "<Figure size 2000x1500 with 8 Axes>"
      ]
     },
     "metadata": {},
     "output_type": "display_data"
    }
   ],
   "source": [
    "show_hist(train_df)"
   ]
  },
  {
   "cell_type": "code",
   "execution_count": 32,
   "id": "123a1db6",
   "metadata": {
    "execution": {
     "iopub.execute_input": "2024-04-04T07:07:02.769199Z",
     "iopub.status.busy": "2024-04-04T07:07:02.768801Z",
     "iopub.status.idle": "2024-04-04T07:07:02.773421Z",
     "shell.execute_reply": "2024-04-04T07:07:02.772199Z"
    },
    "papermill": {
     "duration": 0.035287,
     "end_time": "2024-04-04T07:07:02.775718",
     "exception": false,
     "start_time": "2024-04-04T07:07:02.740431",
     "status": "completed"
    },
    "tags": []
   },
   "outputs": [],
   "source": [
    "#show_pie_mult(train_df)"
   ]
  },
  {
   "cell_type": "code",
   "execution_count": 33,
   "id": "13220bb5",
   "metadata": {
    "execution": {
     "iopub.execute_input": "2024-04-04T07:07:02.832574Z",
     "iopub.status.busy": "2024-04-04T07:07:02.832101Z",
     "iopub.status.idle": "2024-04-04T07:07:04.436447Z",
     "shell.execute_reply": "2024-04-04T07:07:04.435054Z"
    },
    "papermill": {
     "duration": 1.636709,
     "end_time": "2024-04-04T07:07:04.439330",
     "exception": false,
     "start_time": "2024-04-04T07:07:02.802621",
     "status": "completed"
    },
    "tags": []
   },
   "outputs": [
    {
     "data": {
      "image/png": "[encoded data removed]",
      "text/plain": [
       "<Figure size 2000x1500 with 8 Axes>"
      ]
     },
     "metadata": {},
     "output_type": "display_data"
    }
   ],
   "source": [
    "show_box_plot(train_df)"
   ]
  },
  {
   "cell_type": "markdown",
   "id": "6dec04d8",
   "metadata": {
    "papermill": {
     "duration": 0.028264,
     "end_time": "2024-04-04T07:07:04.496226",
     "exception": false,
     "start_time": "2024-04-04T07:07:04.467962",
     "status": "completed"
    },
    "tags": []
   },
   "source": [
    "## <p style=\"font-family:Consolas Mono; font-weight:normal; letter-spacing: 2px; color:#06D1C7; font-size:130%; text-align:left;padding: 0px; border-bottom: 3px solid #008F77\">Model</p>"
   ]
  },
  {
   "cell_type": "code",
   "execution_count": 34,
   "id": "dec268d4",
   "metadata": {
    "execution": {
     "iopub.execute_input": "2024-04-04T07:07:04.555801Z",
     "iopub.status.busy": "2024-04-04T07:07:04.555062Z",
     "iopub.status.idle": "2024-04-04T07:07:04.576125Z",
     "shell.execute_reply": "2024-04-04T07:07:04.574637Z"
    },
    "papermill": {
     "duration": 0.053802,
     "end_time": "2024-04-04T07:07:04.578803",
     "exception": false,
     "start_time": "2024-04-04T07:07:04.525001",
     "status": "completed"
    },
    "tags": []
   },
   "outputs": [
    {
     "data": {
      "text/html": [
       "<div>\n",
       "<style scoped>\n",
       "    .dataframe tbody tr th:only-of-type {\n",
       "        vertical-align: middle;\n",
       "    }\n",
       "\n",
       "    .dataframe tbody tr th {\n",
       "        vertical-align: top;\n",
       "    }\n",
       "\n",
       "    .dataframe thead th {\n",
       "        text-align: right;\n",
       "    }\n",
       "</style>\n",
       "<table border=\"1\" class=\"dataframe\">\n",
       "  <thead>\n",
       "    <tr style=\"text-align: right;\">\n",
       "      <th></th>\n",
       "      <th>Length</th>\n",
       "      <th>Diameter</th>\n",
       "      <th>Height</th>\n",
       "      <th>Whole weight</th>\n",
       "      <th>Shucked weight</th>\n",
       "      <th>Viscera weight</th>\n",
       "      <th>Shell weight</th>\n",
       "      <th>Rings</th>\n",
       "      <th>Sex_F</th>\n",
       "      <th>Sex_I</th>\n",
       "      <th>Sex_M</th>\n",
       "    </tr>\n",
       "  </thead>\n",
       "  <tbody>\n",
       "    <tr>\n",
       "      <th>0</th>\n",
       "      <td>0.550</td>\n",
       "      <td>0.430</td>\n",
       "      <td>0.150</td>\n",
       "      <td>0.7715</td>\n",
       "      <td>0.3285</td>\n",
       "      <td>0.1465</td>\n",
       "      <td>0.2400</td>\n",
       "      <td>11</td>\n",
       "      <td>True</td>\n",
       "      <td>False</td>\n",
       "      <td>False</td>\n",
       "    </tr>\n",
       "    <tr>\n",
       "      <th>1</th>\n",
       "      <td>0.630</td>\n",
       "      <td>0.490</td>\n",
       "      <td>0.145</td>\n",
       "      <td>1.1300</td>\n",
       "      <td>0.4580</td>\n",
       "      <td>0.2765</td>\n",
       "      <td>0.3200</td>\n",
       "      <td>11</td>\n",
       "      <td>True</td>\n",
       "      <td>False</td>\n",
       "      <td>False</td>\n",
       "    </tr>\n",
       "    <tr>\n",
       "      <th>2</th>\n",
       "      <td>0.160</td>\n",
       "      <td>0.110</td>\n",
       "      <td>0.025</td>\n",
       "      <td>0.0210</td>\n",
       "      <td>0.0055</td>\n",
       "      <td>0.0030</td>\n",
       "      <td>0.0050</td>\n",
       "      <td>6</td>\n",
       "      <td>False</td>\n",
       "      <td>True</td>\n",
       "      <td>False</td>\n",
       "    </tr>\n",
       "    <tr>\n",
       "      <th>3</th>\n",
       "      <td>0.595</td>\n",
       "      <td>0.475</td>\n",
       "      <td>0.150</td>\n",
       "      <td>0.9145</td>\n",
       "      <td>0.3755</td>\n",
       "      <td>0.2055</td>\n",
       "      <td>0.2500</td>\n",
       "      <td>10</td>\n",
       "      <td>False</td>\n",
       "      <td>False</td>\n",
       "      <td>True</td>\n",
       "    </tr>\n",
       "    <tr>\n",
       "      <th>4</th>\n",
       "      <td>0.555</td>\n",
       "      <td>0.425</td>\n",
       "      <td>0.130</td>\n",
       "      <td>0.7820</td>\n",
       "      <td>0.3695</td>\n",
       "      <td>0.1600</td>\n",
       "      <td>0.1975</td>\n",
       "      <td>9</td>\n",
       "      <td>False</td>\n",
       "      <td>True</td>\n",
       "      <td>False</td>\n",
       "    </tr>\n",
       "  </tbody>\n",
       "</table>\n",
       "</div>"
      ],
      "text/plain": [
       "   Length  Diameter  Height  Whole weight  Shucked weight  Viscera weight  \\\n",
       "0   0.550     0.430   0.150        0.7715          0.3285          0.1465   \n",
       "1   0.630     0.490   0.145        1.1300          0.4580          0.2765   \n",
       "2   0.160     0.110   0.025        0.0210          0.0055          0.0030   \n",
       "3   0.595     0.475   0.150        0.9145          0.3755          0.2055   \n",
       "4   0.555     0.425   0.130        0.7820          0.3695          0.1600   \n",
       "\n",
       "   Shell weight  Rings  Sex_F  Sex_I  Sex_M  \n",
       "0        0.2400     11   True  False  False  \n",
       "1        0.3200     11   True  False  False  \n",
       "2        0.0050      6  False   True  False  \n",
       "3        0.2500     10  False  False   True  \n",
       "4        0.1975      9  False   True  False  "
      ]
     },
     "execution_count": 34,
     "metadata": {},
     "output_type": "execute_result"
    }
   ],
   "source": [
    "train_df_enc.columns = original_df_enc.columns\n",
    "train_df_enc.head()"
   ]
  },
  {
   "cell_type": "code",
   "execution_count": 35,
   "id": "3a392cc3",
   "metadata": {
    "execution": {
     "iopub.execute_input": "2024-04-04T07:07:04.640104Z",
     "iopub.status.busy": "2024-04-04T07:07:04.639657Z",
     "iopub.status.idle": "2024-04-04T07:07:04.657365Z",
     "shell.execute_reply": "2024-04-04T07:07:04.656329Z"
    },
    "papermill": {
     "duration": 0.051854,
     "end_time": "2024-04-04T07:07:04.660028",
     "exception": false,
     "start_time": "2024-04-04T07:07:04.608174",
     "status": "completed"
    },
    "tags": []
   },
   "outputs": [],
   "source": [
    "train = pd.concat([train_df_enc, original_df_enc], axis = 0, ignore_index=True)\n",
    "train.dropna(inplace=True)"
   ]
  },
  {
   "cell_type": "code",
   "execution_count": 36,
   "id": "601c1af3",
   "metadata": {
    "execution": {
     "iopub.execute_input": "2024-04-04T07:07:04.719522Z",
     "iopub.status.busy": "2024-04-04T07:07:04.718753Z",
     "iopub.status.idle": "2024-04-04T07:07:04.744341Z",
     "shell.execute_reply": "2024-04-04T07:07:04.742909Z"
    },
    "papermill": {
     "duration": 0.057707,
     "end_time": "2024-04-04T07:07:04.746693",
     "exception": false,
     "start_time": "2024-04-04T07:07:04.688986",
     "status": "completed"
    },
    "tags": []
   },
   "outputs": [
    {
     "name": "stdout",
     "output_type": "stream",
     "text": [
      "Data description\n",
      "Total number of records 94792\n",
      "number of features 11\n",
      "\n",
      "\n",
      "              Name     Type  Unique levels  Missing\n",
      "0           Length  float64            157        0\n",
      "1         Diameter  float64            126        0\n",
      "2           Height  float64             90        0\n",
      "3     Whole weight  float64           3205        0\n",
      "4   Shucked weight  float64           1806        0\n",
      "5   Viscera weight  float64            983        0\n",
      "6     Shell weight  float64           1132        0\n",
      "7            Rings  float64             28        0\n",
      "8            Sex_F     bool              2        0\n",
      "9            Sex_I     bool              2        0\n",
      "10           Sex_M     bool              2        0\n"
     ]
    }
   ],
   "source": [
    "y = train[TARGET]\n",
    "original_df_enc.head()\n",
    "data_description(train)"
   ]
  },
  {
   "cell_type": "code",
   "execution_count": 37,
   "id": "0aaa1a59",
   "metadata": {
    "execution": {
     "iopub.execute_input": "2024-04-04T07:07:04.807129Z",
     "iopub.status.busy": "2024-04-04T07:07:04.806513Z",
     "iopub.status.idle": "2024-04-04T07:07:04.817106Z",
     "shell.execute_reply": "2024-04-04T07:07:04.815818Z"
    },
    "papermill": {
     "duration": 0.043862,
     "end_time": "2024-04-04T07:07:04.819544",
     "exception": false,
     "start_time": "2024-04-04T07:07:04.775682",
     "status": "completed"
    },
    "tags": []
   },
   "outputs": [
    {
     "data": {
      "text/plain": [
       "0        11.0\n",
       "1        11.0\n",
       "2         6.0\n",
       "3        10.0\n",
       "4         9.0\n",
       "         ... \n",
       "94787    11.0\n",
       "94788    10.0\n",
       "94789     9.0\n",
       "94790    10.0\n",
       "94791    12.0\n",
       "Name: Rings, Length: 94792, dtype: float64"
      ]
     },
     "execution_count": 37,
     "metadata": {},
     "output_type": "execute_result"
    }
   ],
   "source": [
    "y"
   ]
  },
  {
   "cell_type": "code",
   "execution_count": 38,
   "id": "e9043d34",
   "metadata": {
    "execution": {
     "iopub.execute_input": "2024-04-04T07:07:04.882832Z",
     "iopub.status.busy": "2024-04-04T07:07:04.882366Z",
     "iopub.status.idle": "2024-04-04T07:07:04.890094Z",
     "shell.execute_reply": "2024-04-04T07:07:04.888553Z"
    },
    "papermill": {
     "duration": 0.042285,
     "end_time": "2024-04-04T07:07:04.893030",
     "exception": false,
     "start_time": "2024-04-04T07:07:04.850745",
     "status": "completed"
    },
    "tags": []
   },
   "outputs": [],
   "source": [
    "y_log = np.log(1+y)"
   ]
  },
  {
   "cell_type": "code",
   "execution_count": 39,
   "id": "d28d7b92",
   "metadata": {
    "execution": {
     "iopub.execute_input": "2024-04-04T07:07:04.959801Z",
     "iopub.status.busy": "2024-04-04T07:07:04.959341Z",
     "iopub.status.idle": "2024-04-04T07:07:04.967006Z",
     "shell.execute_reply": "2024-04-04T07:07:04.966005Z"
    },
    "papermill": {
     "duration": 0.044515,
     "end_time": "2024-04-04T07:07:04.969460",
     "exception": false,
     "start_time": "2024-04-04T07:07:04.924945",
     "status": "completed"
    },
    "tags": []
   },
   "outputs": [],
   "source": [
    "train = train.drop([TARGET], axis = 1)\n",
    "test_df_enc.columns = train.columns"
   ]
  },
  {
   "cell_type": "code",
   "execution_count": 40,
   "id": "1696a9a2",
   "metadata": {
    "execution": {
     "iopub.execute_input": "2024-04-04T07:07:05.033224Z",
     "iopub.status.busy": "2024-04-04T07:07:05.032496Z",
     "iopub.status.idle": "2024-04-04T07:07:23.611162Z",
     "shell.execute_reply": "2024-04-04T07:07:23.610125Z"
    },
    "papermill": {
     "duration": 18.614186,
     "end_time": "2024-04-04T07:07:23.613982",
     "exception": false,
     "start_time": "2024-04-04T07:07:04.999796",
     "status": "completed"
    },
    "tags": []
   },
   "outputs": [
    {
     "name": "stdout",
     "output_type": "stream",
     "text": [
      "Cross validation score: \u001b[34m\u001b[1m0.14943521908217075\u001b[0m\n"
     ]
    }
   ],
   "source": [
    "model = XGBRegressor(\n",
    "    max_depth=11,\n",
    "    gamma=0.0653, \n",
    "    subsample=0.5737,  \n",
    "    n_estimators=854,\n",
    "    min_child_weight=4,\n",
    "    learning_rate=0.0307,\n",
    "    colsample_bytree=0.4645,  \n",
    "    objective='reg:squarederror',\n",
    "    eval_metric=METRIC,\n",
    "    random_state=SEED\n",
    ")\n",
    "\n",
    "print(f\"Cross validation score: {blue}{model_cross_val(train, y, model, cv=5)}{res}\")\n",
    "# model_cross_val(train, y, model, cv=5)"
   ]
  },
  {
   "cell_type": "code",
   "execution_count": 41,
   "id": "7d58b162",
   "metadata": {
    "execution": {
     "iopub.execute_input": "2024-04-04T07:07:23.674858Z",
     "iopub.status.busy": "2024-04-04T07:07:23.674439Z",
     "iopub.status.idle": "2024-04-04T07:07:53.797680Z",
     "shell.execute_reply": "2024-04-04T07:07:53.796079Z"
    },
    "papermill": {
     "duration": 30.17871,
     "end_time": "2024-04-04T07:07:53.822625",
     "exception": false,
     "start_time": "2024-04-04T07:07:23.643915",
     "status": "completed"
    },
    "tags": []
   },
   "outputs": [
    {
     "name": "stdout",
     "output_type": "stream",
     "text": [
      "Cross validation score: \u001b[34m\u001b[1m0.14917445378831432\u001b[0m\n"
     ]
    }
   ],
   "source": [
    "model = LGBMRegressor(\n",
    "    max_depth=14,  \n",
    "    n_estimators=582,\n",
    "    subsample=0.9394,\n",
    "    lambda_l1=0.0111,  \n",
    "    lambda_l2=0.0563,\n",
    "    min_data_in_leaf=87, \n",
    "    min_child_samples=25,  \n",
    "    learning_rate=0.0428,\n",
    "    colsample_bytree=0.7124,\n",
    "    objective='regression',\n",
    "    metric=METRIC,\n",
    "    verbosity=-1,  \n",
    "    boosting_type=\"gbdt\",\n",
    "    bagging_freq=1,  \n",
    "    random_state=SEED,\n",
    "    n_jobs=-1  \n",
    ")\n",
    "\n",
    "# model_cross_val(train, y, model, cv=5)\n",
    "print(f\"Cross validation score: {blue}{model_cross_val(train, y, model, cv=5)}{res}\")"
   ]
  },
  {
   "cell_type": "code",
   "execution_count": 42,
   "id": "f18bdc49",
   "metadata": {
    "execution": {
     "iopub.execute_input": "2024-04-04T07:07:53.888727Z",
     "iopub.status.busy": "2024-04-04T07:07:53.888262Z",
     "iopub.status.idle": "2024-04-04T07:08:51.591878Z",
     "shell.execute_reply": "2024-04-04T07:08:51.590465Z"
    },
    "papermill": {
     "duration": 57.770312,
     "end_time": "2024-04-04T07:08:51.623934",
     "exception": false,
     "start_time": "2024-04-04T07:07:53.853622",
     "status": "completed"
    },
    "tags": []
   },
   "outputs": [
    {
     "name": "stdout",
     "output_type": "stream",
     "text": [
      "Cross validation score: \u001b[34m\u001b[1m0.14956122121638776\u001b[0m\n"
     ]
    }
   ],
   "source": [
    "model = CatBoostRegressor(\n",
    "    learning_rate=0.0978,  \n",
    "    depth=8, \n",
    "    subsample=0.8883,  \n",
    "    colsample_bylevel=0.3397,  \n",
    "    min_data_in_leaf=60,  \n",
    "    iterations=1000,  \n",
    "    loss_function=LOSS_FUN,  \n",
    "    silent=True  \n",
    ")\n",
    "\n",
    "print(f\"Cross validation score: {blue}{model_cross_val(train, y, model, cv=5)}{res}\")\n",
    "# model_cross_val(train, y, model, cv=5)"
   ]
  },
  {
   "cell_type": "code",
   "execution_count": 43,
   "id": "1df127af",
   "metadata": {
    "execution": {
     "iopub.execute_input": "2024-04-04T07:08:51.685251Z",
     "iopub.status.busy": "2024-04-04T07:08:51.684107Z",
     "iopub.status.idle": "2024-04-04T07:11:00.725385Z",
     "shell.execute_reply": "2024-04-04T07:11:00.724017Z"
    },
    "papermill": {
     "duration": 129.103832,
     "end_time": "2024-04-04T07:11:00.757271",
     "exception": false,
     "start_time": "2024-04-04T07:08:51.653439",
     "status": "completed"
    },
    "tags": []
   },
   "outputs": [
    {
     "name": "stdout",
     "output_type": "stream",
     "text": [
      "Average RMSE: \u001b[31m\u001b[1m0.14895269757008736\u001b[0m\n"
     ]
    }
   ],
   "source": [
    "skf = StratifiedKFold(n_splits=N_SPLITS)\n",
    "\n",
    "scores = []\n",
    "\n",
    "for train_index, validation_index in skf.split(train, y):\n",
    "    X_train, X_valid = train.iloc[train_index, :], train.iloc[validation_index, :]\n",
    "    y_train, y_valid = y_log.iloc[train_index], y_log.iloc[validation_index]\n",
    "\n",
    "    cat = CatBoostRegressor(\n",
    "        learning_rate=0.09717753156189449,\n",
    "        depth=8,\n",
    "        subsample=0.8835788878050225,\n",
    "        colsample_bylevel=0.33957608566891955,\n",
    "        min_data_in_leaf=60,\n",
    "        iterations=1000,\n",
    "        loss_function=LOSS_FUN,\n",
    "        silent=True\n",
    "    )\n",
    "    \n",
    "    xgb = XGBRegressor(\n",
    "        n_estimators=854,\n",
    "        max_depth=11,\n",
    "        learning_rate=0.030716176254596645,\n",
    "        subsample=0.5731027170642267,\n",
    "        colsample_bytree=0.4641389544945836,\n",
    "        min_child_weight=4,\n",
    "        gamma=0.06558705435333196,\n",
    "        objective='reg:squarederror',\n",
    "        eval_metric=METRIC,\n",
    "        random_state=SEED\n",
    "    )\n",
    "    \n",
    "    lgbm = LGBMRegressor(\n",
    "        n_estimators=582,\n",
    "        learning_rate=0.04240212753928245,\n",
    "        subsample=0.9506839415640654,\n",
    "        colsample_bytree=0.7179882922388522,\n",
    "        min_data_in_leaf=87,\n",
    "        lambda_l1=0.011287423843123725,\n",
    "        lambda_l2=0.056707291084203365,\n",
    "        max_depth=14,\n",
    "        min_child_samples=25,\n",
    "        objective='regression',\n",
    "        metric=METRIC,\n",
    "        verbosity=-1,\n",
    "        boosting_type=\"gbdt\",\n",
    "        bagging_freq=1,\n",
    "        random_state=SEED,\n",
    "        n_jobs=-1\n",
    "    )\n",
    "\n",
    "    # Fitting models\n",
    "    cat.fit(X_train, y_train, verbose=False)\n",
    "    lgbm.fit(X_train, y_train)\n",
    "    xgb.fit(X_train, y_train)\n",
    "\n",
    "    # Predicting on validation set\n",
    "    y_pred_cat = cat.predict(X_valid)\n",
    "    y_pred_lgbm = lgbm.predict(X_valid)\n",
    "    y_pred_xgb = xgb.predict(X_valid)\n",
    "\n",
    "    # Averaging predictions\n",
    "    y_pred = (y_pred_cat + y_pred_lgbm + y_pred_xgb) / 3\n",
    "    \n",
    "    # Calculate RMSE\n",
    "    rmse = mean_squared_error(y_valid, y_pred, squared=False)\n",
    "    scores.append(rmse)\n",
    "\n",
    "average_rmse = np.mean(scores)\n",
    "print(f\"Average RMSE: {red}{average_rmse}{res}\")"
   ]
  },
  {
   "cell_type": "code",
   "execution_count": 44,
   "id": "4bf78973",
   "metadata": {
    "execution": {
     "iopub.execute_input": "2024-04-04T07:11:00.817862Z",
     "iopub.status.busy": "2024-04-04T07:11:00.817431Z",
     "iopub.status.idle": "2024-04-04T07:11:00.830549Z",
     "shell.execute_reply": "2024-04-04T07:11:00.829183Z"
    },
    "papermill": {
     "duration": 0.046889,
     "end_time": "2024-04-04T07:11:00.833508",
     "exception": false,
     "start_time": "2024-04-04T07:11:00.786619",
     "status": "completed"
    },
    "tags": []
   },
   "outputs": [],
   "source": [
    "cat = CatBoostRegressor(\n",
    "    learning_rate=0.097,\n",
    "    depth=8,\n",
    "    subsample=0.889,\n",
    "    colsample_bylevel=0.34,\n",
    "    min_data_in_leaf=60,\n",
    "    iterations=1000,\n",
    "    loss_function=LOSS_FUN, \n",
    "    verbose=False  # Use verbose instead of silent for clarity\n",
    ")\n",
    "\n",
    "xgb = XGBRegressor(\n",
    "    n_estimators=854,\n",
    "    max_depth=11,\n",
    "    learning_rate=0.031,\n",
    "    subsample=0.573,\n",
    "    colsample_bytree=0.465,\n",
    "    min_child_weight=4,\n",
    "    gamma=0.065,\n",
    "    objective='reg:squarederror',\n",
    "    eval_metric=METRIC,  \n",
    "    random_state=SEED  \n",
    ")\n",
    "\n",
    "lgbm = LGBMRegressor(\n",
    "    n_estimators=582,\n",
    "    learning_rate=0.042,\n",
    "    subsample=0.94,\n",
    "    colsample_bytree=0.712,\n",
    "    min_data_in_leaf=87,\n",
    "    lambda_l1=0.012,\n",
    "    lambda_l2=0.056,\n",
    "    max_depth=14,\n",
    "    min_child_samples=25,\n",
    "    objective='regression',\n",
    "    metric=METRIC,  \n",
    "    boosting_type='gbdt',\n",
    "    bagging_freq=1,\n",
    "    random_state=SEED,\n",
    "    n_jobs=-1,\n",
    "    silent=True  # For consistency, though consider if silence is always desired\n",
    ")"
   ]
  },
  {
   "cell_type": "code",
   "execution_count": 45,
   "id": "c36bafe8",
   "metadata": {
    "execution": {
     "iopub.execute_input": "2024-04-04T07:11:00.894526Z",
     "iopub.status.busy": "2024-04-04T07:11:00.894083Z",
     "iopub.status.idle": "2024-04-04T07:11:30.636342Z",
     "shell.execute_reply": "2024-04-04T07:11:30.634334Z"
    },
    "papermill": {
     "duration": 29.775731,
     "end_time": "2024-04-04T07:11:30.639134",
     "exception": false,
     "start_time": "2024-04-04T07:11:00.863403",
     "status": "completed"
    },
    "tags": []
   },
   "outputs": [
    {
     "name": "stdout",
     "output_type": "stream",
     "text": [
      "[LightGBM] [Warning] Unknown parameter: silent\n",
      "[LightGBM] [Warning] min_data_in_leaf is set=87, min_child_samples=25 will be ignored. Current value: min_data_in_leaf=87\n",
      "[LightGBM] [Warning] bagging_freq is set=1, subsample_freq=0 will be ignored. Current value: bagging_freq=1\n",
      "[LightGBM] [Warning] lambda_l2 is set=0.056, reg_lambda=0.0 will be ignored. Current value: lambda_l2=0.056\n",
      "[LightGBM] [Warning] lambda_l1 is set=0.012, reg_alpha=0.0 will be ignored. Current value: lambda_l1=0.012\n",
      "[LightGBM] [Warning] Accuracy may be bad since you didn't explicitly set num_leaves OR 2^max_depth > num_leaves. (num_leaves=31).\n",
      "[LightGBM] [Warning] Found whitespace in feature_names, replace with underlines\n",
      "[LightGBM] [Warning] Unknown parameter: silent\n",
      "[LightGBM] [Warning] min_data_in_leaf is set=87, min_child_samples=25 will be ignored. Current value: min_data_in_leaf=87\n",
      "[LightGBM] [Warning] bagging_freq is set=1, subsample_freq=0 will be ignored. Current value: bagging_freq=1\n",
      "[LightGBM] [Warning] lambda_l2 is set=0.056, reg_lambda=0.0 will be ignored. Current value: lambda_l2=0.056\n",
      "[LightGBM] [Warning] lambda_l1 is set=0.012, reg_alpha=0.0 will be ignored. Current value: lambda_l1=0.012\n",
      "[LightGBM] [Warning] Accuracy may be bad since you didn't explicitly set num_leaves OR 2^max_depth > num_leaves. (num_leaves=31).\n",
      "[LightGBM] [Info] Auto-choosing col-wise multi-threading, the overhead of testing was 0.018654 seconds.\n",
      "You can set `force_col_wise=true` to remove the overhead.\n",
      "[LightGBM] [Info] Total Bins 1338\n",
      "[LightGBM] [Info] Number of data points in the train set: 94792, number of used features: 10\n",
      "[LightGBM] [Info] Start training from score 2.329925\n",
      "[LightGBM] [Warning] No further splits with positive gain, best gain: -inf\n",
      "[LightGBM] [Warning] No further splits with positive gain, best gain: -inf\n"
     ]
    },
    {
     "data": {
      "text/html": [
       "<style>#sk-container-id-1 {color: black;background-color: white;}#sk-container-id-1 pre{padding: 0;}#sk-container-id-1 div.sk-toggleable {background-color: white;}#sk-container-id-1 label.sk-toggleable__label {cursor: pointer;display: block;width: 100%;margin-bottom: 0;padding: 0.3em;box-sizing: border-box;text-align: center;}#sk-container-id-1 label.sk-toggleable__label-arrow:before {content: \"▸\";float: left;margin-right: 0.25em;color: #696969;}#sk-container-id-1 label.sk-toggleable__label-arrow:hover:before {color: black;}#sk-container-id-1 div.sk-estimator:hover label.sk-toggleable__label-arrow:before {color: black;}#sk-container-id-1 div.sk-toggleable__content {max-height: 0;max-width: 0;overflow: hidden;text-align: left;background-color: #f0f8ff;}#sk-container-id-1 div.sk-toggleable__content pre {margin: 0.2em;color: black;border-radius: 0.25em;background-color: #f0f8ff;}#sk-container-id-1 input.sk-toggleable__control:checked~div.sk-toggleable__content {max-height: 200px;max-width: 100%;overflow: auto;}#sk-container-id-1 input.sk-toggleable__control:checked~label.sk-toggleable__label-arrow:before {content: \"▾\";}#sk-container-id-1 div.sk-estimator input.sk-toggleable__control:checked~label.sk-toggleable__label {background-color: #d4ebff;}#sk-container-id-1 div.sk-label input.sk-toggleable__control:checked~label.sk-toggleable__label {background-color: #d4ebff;}#sk-container-id-1 input.sk-hidden--visually {border: 0;clip: rect(1px 1px 1px 1px);clip: rect(1px, 1px, 1px, 1px);height: 1px;margin: -1px;overflow: hidden;padding: 0;position: absolute;width: 1px;}#sk-container-id-1 div.sk-estimator {font-family: monospace;background-color: #f0f8ff;border: 1px dotted black;border-radius: 0.25em;box-sizing: border-box;margin-bottom: 0.5em;}#sk-container-id-1 div.sk-estimator:hover {background-color: #d4ebff;}#sk-container-id-1 div.sk-parallel-item::after {content: \"\";width: 100%;border-bottom: 1px solid gray;flex-grow: 1;}#sk-container-id-1 div.sk-label:hover label.sk-toggleable__label {background-color: #d4ebff;}#sk-container-id-1 div.sk-serial::before {content: \"\";position: absolute;border-left: 1px solid gray;box-sizing: border-box;top: 0;bottom: 0;left: 50%;z-index: 0;}#sk-container-id-1 div.sk-serial {display: flex;flex-direction: column;align-items: center;background-color: white;padding-right: 0.2em;padding-left: 0.2em;position: relative;}#sk-container-id-1 div.sk-item {position: relative;z-index: 1;}#sk-container-id-1 div.sk-parallel {display: flex;align-items: stretch;justify-content: center;background-color: white;position: relative;}#sk-container-id-1 div.sk-item::before, #sk-container-id-1 div.sk-parallel-item::before {content: \"\";position: absolute;border-left: 1px solid gray;box-sizing: border-box;top: 0;bottom: 0;left: 50%;z-index: -1;}#sk-container-id-1 div.sk-parallel-item {display: flex;flex-direction: column;z-index: 1;position: relative;background-color: white;}#sk-container-id-1 div.sk-parallel-item:first-child::after {align-self: flex-end;width: 50%;}#sk-container-id-1 div.sk-parallel-item:last-child::after {align-self: flex-start;width: 50%;}#sk-container-id-1 div.sk-parallel-item:only-child::after {width: 0;}#sk-container-id-1 div.sk-dashed-wrapped {border: 1px dashed gray;margin: 0 0.4em 0.5em 0.4em;box-sizing: border-box;padding-bottom: 0.4em;background-color: white;}#sk-container-id-1 div.sk-label label {font-family: monospace;font-weight: bold;display: inline-block;line-height: 1.2em;}#sk-container-id-1 div.sk-label-container {text-align: center;}#sk-container-id-1 div.sk-container {/* jupyter's `normalize.less` sets `[hidden] { display: none; }` but bootstrap.min.css set `[hidden] { display: none !important; }` so we also need the `!important` here to be able to override the default hidden behavior on the sphinx rendered scikit-learn.org. See: https://github.com/scikit-learn/scikit-learn/issues/21755 */display: inline-block !important;position: relative;}#sk-container-id-1 div.sk-text-repr-fallback {display: none;}</style><div id=\"sk-container-id-1\" class=\"sk-top-container\"><div class=\"sk-text-repr-fallback\"><pre>XGBRegressor(base_score=None, booster=None, callbacks=None,\n",
       "             colsample_bylevel=None, colsample_bynode=None,\n",
       "             colsample_bytree=0.465, device=None, early_stopping_rounds=None,\n",
       "             enable_categorical=False, eval_metric=&#x27;rmse&#x27;, feature_types=None,\n",
       "             gamma=0.065, grow_policy=None, importance_type=None,\n",
       "             interaction_constraints=None, learning_rate=0.031, max_bin=None,\n",
       "             max_cat_threshold=None, max_cat_to_onehot=None,\n",
       "             max_delta_step=None, max_depth=11, max_leaves=None,\n",
       "             min_child_weight=4, missing=nan, monotone_constraints=None,\n",
       "             multi_strategy=None, n_estimators=854, n_jobs=None,\n",
       "             num_parallel_tree=None, random_state=42, ...)</pre><b>In a Jupyter environment, please rerun this cell to show the HTML representation or trust the notebook. <br />On GitHub, the HTML representation is unable to render, please try loading this page with nbviewer.org.</b></div><div class=\"sk-container\" hidden><div class=\"sk-item\"><div class=\"sk-estimator sk-toggleable\"><input class=\"sk-toggleable__control sk-hidden--visually\" id=\"sk-estimator-id-1\" type=\"checkbox\" checked><label for=\"sk-estimator-id-1\" class=\"sk-toggleable__label sk-toggleable__label-arrow\">XGBRegressor</label><div class=\"sk-toggleable__content\"><pre>XGBRegressor(base_score=None, booster=None, callbacks=None,\n",
       "             colsample_bylevel=None, colsample_bynode=None,\n",
       "             colsample_bytree=0.465, device=None, early_stopping_rounds=None,\n",
       "             enable_categorical=False, eval_metric=&#x27;rmse&#x27;, feature_types=None,\n",
       "             gamma=0.065, grow_policy=None, importance_type=None,\n",
       "             interaction_constraints=None, learning_rate=0.031, max_bin=None,\n",
       "             max_cat_threshold=None, max_cat_to_onehot=None,\n",
       "             max_delta_step=None, max_depth=11, max_leaves=None,\n",
       "             min_child_weight=4, missing=nan, monotone_constraints=None,\n",
       "             multi_strategy=None, n_estimators=854, n_jobs=None,\n",
       "             num_parallel_tree=None, random_state=42, ...)</pre></div></div></div></div></div>"
      ],
      "text/plain": [
       "XGBRegressor(base_score=None, booster=None, callbacks=None,\n",
       "             colsample_bylevel=None, colsample_bynode=None,\n",
       "             colsample_bytree=0.465, device=None, early_stopping_rounds=None,\n",
       "             enable_categorical=False, eval_metric='rmse', feature_types=None,\n",
       "             gamma=0.065, grow_policy=None, importance_type=None,\n",
       "             interaction_constraints=None, learning_rate=0.031, max_bin=None,\n",
       "             max_cat_threshold=None, max_cat_to_onehot=None,\n",
       "             max_delta_step=None, max_depth=11, max_leaves=None,\n",
       "             min_child_weight=4, missing=nan, monotone_constraints=None,\n",
       "             multi_strategy=None, n_estimators=854, n_jobs=None,\n",
       "             num_parallel_tree=None, random_state=42, ...)"
      ]
     },
     "execution_count": 45,
     "metadata": {},
     "output_type": "execute_result"
    }
   ],
   "source": [
    "cat.fit(train, y_log, silent=True)  \n",
    "lgbm.fit(train, y_log)\n",
    "xgb.fit(train, y_log)"
   ]
  },
  {
   "cell_type": "markdown",
   "id": "53ffc463",
   "metadata": {
    "papermill": {
     "duration": 0.029785,
     "end_time": "2024-04-04T07:11:30.701417",
     "exception": false,
     "start_time": "2024-04-04T07:11:30.671632",
     "status": "completed"
    },
    "tags": []
   },
   "source": [
    "## <p style=\"font-family:Consolas Mono; font-weight:normal; letter-spacing: 2px; color:#06D1C7; font-size:130%; text-align:left;padding: 0px; border-bottom: 3px solid #008F77\">Submission</p>"
   ]
  },
  {
   "cell_type": "code",
   "execution_count": 46,
   "id": "0ac8c2c4",
   "metadata": {
    "execution": {
     "iopub.execute_input": "2024-04-04T07:11:30.765105Z",
     "iopub.status.busy": "2024-04-04T07:11:30.764401Z",
     "iopub.status.idle": "2024-04-04T07:11:35.030536Z",
     "shell.execute_reply": "2024-04-04T07:11:35.029302Z"
    },
    "papermill": {
     "duration": 4.301204,
     "end_time": "2024-04-04T07:11:35.033360",
     "exception": false,
     "start_time": "2024-04-04T07:11:30.732156",
     "status": "completed"
    },
    "tags": []
   },
   "outputs": [
    {
     "name": "stdout",
     "output_type": "stream",
     "text": [
      "[LightGBM] [Warning] Unknown parameter: silent\n",
      "[LightGBM] [Warning] min_data_in_leaf is set=87, min_child_samples=25 will be ignored. Current value: min_data_in_leaf=87\n",
      "[LightGBM] [Warning] bagging_freq is set=1, subsample_freq=0 will be ignored. Current value: bagging_freq=1\n",
      "[LightGBM] [Warning] lambda_l2 is set=0.056, reg_lambda=0.0 will be ignored. Current value: lambda_l2=0.056\n",
      "[LightGBM] [Warning] lambda_l1 is set=0.012, reg_alpha=0.0 will be ignored. Current value: lambda_l1=0.012\n",
      "[LightGBM] [Warning] Accuracy may be bad since you didn't explicitly set num_leaves OR 2^max_depth > num_leaves. (num_leaves=31).\n"
     ]
    }
   ],
   "source": [
    "cat_pred = cat.predict(test_df_enc)\n",
    "xgb_pred = xgb.predict(test_df_enc)\n",
    "lgbm_pred = lgbm.predict(test_df_enc)"
   ]
  },
  {
   "cell_type": "code",
   "execution_count": 47,
   "id": "7ea50837",
   "metadata": {
    "execution": {
     "iopub.execute_input": "2024-04-04T07:11:35.097643Z",
     "iopub.status.busy": "2024-04-04T07:11:35.096961Z",
     "iopub.status.idle": "2024-04-04T07:11:35.104381Z",
     "shell.execute_reply": "2024-04-04T07:11:35.103379Z"
    },
    "papermill": {
     "duration": 0.041646,
     "end_time": "2024-04-04T07:11:35.106750",
     "exception": false,
     "start_time": "2024-04-04T07:11:35.065104",
     "status": "completed"
    },
    "tags": []
   },
   "outputs": [],
   "source": [
    "pred = (cat_pred + xgb_pred + lgbm_pred) / 3\n",
    "\n",
    "submission_df = pd.DataFrame({\n",
    "    'id': test_id, \n",
    "    TARGET: np.exp(pred) - 1  \n",
    "})"
   ]
  },
  {
   "cell_type": "code",
   "execution_count": 48,
   "id": "6192feb1",
   "metadata": {
    "execution": {
     "iopub.execute_input": "2024-04-04T07:11:35.169338Z",
     "iopub.status.busy": "2024-04-04T07:11:35.168623Z",
     "iopub.status.idle": "2024-04-04T07:11:35.367665Z",
     "shell.execute_reply": "2024-04-04T07:11:35.366582Z"
    },
    "papermill": {
     "duration": 0.233393,
     "end_time": "2024-04-04T07:11:35.370399",
     "exception": false,
     "start_time": "2024-04-04T07:11:35.137006",
     "status": "completed"
    },
    "tags": []
   },
   "outputs": [],
   "source": [
    "submission_df.to_csv('submission.csv', index=False)"
   ]
  },
  {
   "cell_type": "markdown",
   "id": "110d00a1",
   "metadata": {
    "papermill": {
     "duration": 0.030093,
     "end_time": "2024-04-04T07:11:35.432388",
     "exception": false,
     "start_time": "2024-04-04T07:11:35.402295",
     "status": "completed"
    },
    "tags": []
   },
   "source": [
    "## Thanks for your support, the notebook is still in process, the model will be uploaded soon."
   ]
  }
 ],
 "metadata": {
  "kaggle": {
   "accelerator": "none",
   "dataSources": [
    {
     "databundleVersionId": 8096274,
     "sourceId": 72489,
     "sourceType": "competition"
    },
    {
     "datasetId": 37691,
     "sourceId": 57419,
     "sourceType": "datasetVersion"
    }
   ],
   "dockerImageVersionId": 30673,
   "isGpuEnabled": false,
   "isInternetEnabled": true,
   "language": "python",
   "sourceType": "notebook"
  },
  "kernelspec": {
   "display_name": "Python 3",
   "language": "python",
   "name": "python3"
  },
  "language_info": {
   "codemirror_mode": {
    "name": "ipython",
    "version": 3
   },
   "file_extension": ".py",
   "mimetype": "text/x-python",
   "name": "python",
   "nbconvert_exporter": "python",
   "pygments_lexer": "ipython3",
   "version": "3.10.13"
  },
  "papermill": {
   "default_parameters": {},
   "duration": 291.695283,
   "end_time": "2024-04-04T07:11:36.488256",
   "environment_variables": {},
   "exception": null,
   "input_path": "__notebook__.ipynb",
   "output_path": "__notebook__.ipynb",
   "parameters": {},
   "start_time": "2024-04-04T07:06:44.792973",
   "version": "2.5.0"
  }
 },
 "nbformat": 4,
 "nbformat_minor": 5
}
