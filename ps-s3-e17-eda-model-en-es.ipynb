{
 "cells": [
  {
   "cell_type": "markdown",
   "id": "fc6ebde5",
   "metadata": {
    "papermill": {
     "duration": 0.007328,
     "end_time": "2023-06-13T19:25:10.949252",
     "exception": false,
     "start_time": "2023-06-13T19:25:10.941924",
     "status": "completed"
    },
    "tags": []
   },
   "source": [
    "# <p style=\"font-family:Consolas Mono; font-weight:normal; letter-spacing: 2px; color:#37FABC; font-size:160%; text-align:center;padding: 0px; border-bottom: 5px solid #407A68\">PlayGround Series S3 E17 EDA and simple model</p>"
   ]
  },
  {
   "cell_type": "markdown",
   "id": "7c3bce3d",
   "metadata": {
    "_cell_guid": "b1076dfc-b9ad-4769-8c92-a6c4dae69d19",
    "_uuid": "8f2839f25d086af736a60e9eeb907d3b93b6e0e5",
    "papermill": {
     "duration": 0.006072,
     "end_time": "2023-06-13T19:25:10.961877",
     "exception": false,
     "start_time": "2023-06-13T19:25:10.955805",
     "status": "completed"
    },
    "tags": []
   },
   "source": [
    "## <p style=\"font-family:Consolas Mono; font-weight:normal; letter-spacing: 2px; color:#06D1C7; font-size:130%; text-align:left;padding: 0px; border-bottom: 5px solid #008F77\">Intro</p>\n",
    "\n",
    "**🟦EN**:\n",
    "<div class=\"alert alert-block alert-info\" style=\"font-size:14px; font-family:verdana; line-height: 1.7em; color:#5361fc;\">\n",
    "This Kaggle workbook aims to provide a comprehensive exploratory data analysis (EDA) and a set of simple models (which will not be optimized), but which can give a vague idea of how to choose the best model for the given data set, with the ultimate goal of making decisions.\n",
    "Through this EDA, we will be able to get a deeper understanding of the structure of the data, the values that have a relationship between them and the missing values and pattern or outliers that may affect when performing the modeling or selecting the model we want to use for prediction/recommendation. By performing an EDA, we can identify potential pitfalls and make the decisions and subsequent processing necessary to improve the performance and accuracy of the models.\n",
    "</div>\n",
    "\n",
    "**🟥ES**: \n",
    "<div class=\"alert alert-block alert-info\" style=\"font-size:14px; font-family:verdana; line-height: 1.7em; background-color: #c9b1fa; color:#38196e;\">\n",
    "Este cuaderno Kaggle tiene el objetivo proporcionar un análisis exploratorio de datos (AED) exhaustivo y un conjunto de modelos simples (los cuales no estarán optimizados), pero que pueden llegar a dar una vaga idea para escoger el mejor modelo, para el conjunto de datos dado, con el objetivo final de tomar decisiones.\n",
    "\n",
    "A través de este AED, podremos obtener una comprensión más profunda de la estructura de los datos, los valores que tiene una relación entre ellos y los valores que faltan y patrón o valores anómalos que pueda afectar a la hora de realizar el modelado o seleccionar el modelo que queremos utilizar para la predicción / recomendación. Al realizar un EDA, podemos identificar posibles obstáculos y tomar las decisiones, y posteriormente el procesado necesario para mejorar el rendimiento y la precisión de los modelos.\n",
    "</div>"
   ]
  },
  {
   "cell_type": "markdown",
   "id": "7c185e12",
   "metadata": {
    "papermill": {
     "duration": 0.006085,
     "end_time": "2023-06-13T19:25:10.974492",
     "exception": false,
     "start_time": "2023-06-13T19:25:10.968407",
     "status": "completed"
    },
    "tags": []
   },
   "source": [
    "## <p style=\"font-family:Consolas Mono; font-weight:normal; letter-spacing: 2px; color:#06D1C7; font-size:130%; text-align:left;padding: 0px; border-bottom: 3px solid #008F77\">Data information</p>\n",
    "\n",
    "**🟦EN**:\n",
    "\n",
    "The dataset for this competition (both train and test) was generated from a deep learning model trained on the Machine Failure Predictions. Feature distributions are close to, but not exactly the same, as the original. Feel free to use the original dataset as part of this competition, both to explore differences as well as to see whether incorporating the original in training improves model performance.\n",
    "\n",
    "*Files*\n",
    "\n",
    "* ```train.csv``` - the training dataset; Machine failure is the (binary) target (which, in order to align with the ordering of the original dataset, is not in the last column position)\n",
    "* ```test.csv``` - the test dataset; your objective is to predict the probability of Machine failure\n",
    "* ```sample_submission.csv``` - a sample submission file in the correct format\n",
    "\n",
    "*Content*\n",
    "\n",
    "\n",
    "**🟥ES**:\n",
    "\n",
    "El conjunto de datos para esta competición (tanto de entrenamiento como de prueba) se generó a partir de un modelo de aprendizaje profundo entrenado en las predicciones de fallo de la máquina. Las distribuciones de las características son similares, aunque no exactamente iguales, a las del original. Siéntase libre de usar el conjunto de datos original como parte de esta competencia, tanto para explorar las diferencias como para ver si la incorporación del original en el entrenamiento mejora el rendimiento del modelo.\n",
    "\n",
    "*Archivos\n",
    "\n",
    "* ```train.csv``` - el conjunto de datos de entrenamiento; el fallo de la máquina es el objetivo (binario) (que, para alinearse con el orden del conjunto de datos original, no está en la última columna).\n",
    "* ```test.csv``` - el conjunto de datos de prueba; su objetivo es predecir la probabilidad de fallo de la máquina.\n",
    "* ```sample_submission.csv``` - un archivo de envío de muestra en el formato correcto\n"
   ]
  },
  {
   "cell_type": "markdown",
   "id": "0ebc6256",
   "metadata": {
    "papermill": {
     "duration": 0.006052,
     "end_time": "2023-06-13T19:25:10.986890",
     "exception": false,
     "start_time": "2023-06-13T19:25:10.980838",
     "status": "completed"
    },
    "tags": []
   },
   "source": [
    "## <p style=\"font-family:Consolas Mono; font-weight:normal; letter-spacing: 2px; color:#06D1C7; font-size:130%; text-align:left;padding: 0px; border-bottom: 3px solid #008F77\">Library import</p>"
   ]
  },
  {
   "cell_type": "code",
   "execution_count": 1,
   "id": "c64db9fe",
   "metadata": {
    "execution": {
     "iopub.execute_input": "2023-06-13T19:25:11.001819Z",
     "iopub.status.busy": "2023-06-13T19:25:11.001320Z",
     "iopub.status.idle": "2023-06-13T19:25:13.537946Z",
     "shell.execute_reply": "2023-06-13T19:25:13.536982Z"
    },
    "papermill": {
     "duration": 2.54725,
     "end_time": "2023-06-13T19:25:13.540660",
     "exception": false,
     "start_time": "2023-06-13T19:25:10.993410",
     "status": "completed"
    },
    "tags": []
   },
   "outputs": [],
   "source": [
    "import os \n",
    "import sys\n",
    "import math\n",
    "import time\n",
    "import random\n",
    "import warnings\n",
    "import numpy as np \n",
    "import pandas as pd\n",
    "import seaborn as sns\n",
    "import missingno as msno\n",
    "import plotly.express as px\n",
    "import matplotlib.pyplot as plt\n",
    "import plotly.graph_objects as go\n",
    "import matplotlib.colors as mcolors"
   ]
  },
  {
   "cell_type": "code",
   "execution_count": 2,
   "id": "7efd4291",
   "metadata": {
    "execution": {
     "iopub.execute_input": "2023-06-13T19:25:13.555908Z",
     "iopub.status.busy": "2023-06-13T19:25:13.555239Z",
     "iopub.status.idle": "2023-06-13T19:25:13.561086Z",
     "shell.execute_reply": "2023-06-13T19:25:13.560311Z"
    },
    "papermill": {
     "duration": 0.016517,
     "end_time": "2023-06-13T19:25:13.563814",
     "exception": false,
     "start_time": "2023-06-13T19:25:13.547297",
     "status": "completed"
    },
    "tags": []
   },
   "outputs": [],
   "source": [
    "# Put theme of notebook \n",
    "from colorama import Fore, Style\n",
    "\n",
    "# Colors\n",
    "red = Fore.RED + Style.BRIGHT\n",
    "mgta = Fore.MAGENTA + Style.BRIGHT\n",
    "yllw = Fore.YELLOW + Style.BRIGHT\n",
    "cyn = Fore.CYAN + Style.BRIGHT\n",
    "blue = Fore.BLUE + Style.BRIGHT\n",
    "\n",
    "# Reset\n",
    "res = Style.RESET_ALL\n",
    "plt.style.use({\"figure.facecolor\": \"#282a36\"})"
   ]
  },
  {
   "cell_type": "code",
   "execution_count": 3,
   "id": "727e97ea",
   "metadata": {
    "execution": {
     "iopub.execute_input": "2023-06-13T19:25:13.580823Z",
     "iopub.status.busy": "2023-06-13T19:25:13.580045Z",
     "iopub.status.idle": "2023-06-13T19:25:13.740238Z",
     "shell.execute_reply": "2023-06-13T19:25:13.738754Z"
    },
    "papermill": {
     "duration": 0.17245,
     "end_time": "2023-06-13T19:25:13.744503",
     "exception": false,
     "start_time": "2023-06-13T19:25:13.572053",
     "status": "completed"
    },
    "tags": []
   },
   "outputs": [
    {
     "data": {
      "image/png": "[encoded data removed]",
      "text/plain": [
       "<Figure size 700x100 with 1 Axes>"
      ]
     },
     "metadata": {},
     "output_type": "display_data"
    }
   ],
   "source": [
    "# Colors\n",
    "YELLOW = \"#F7C53E\"\n",
    "\n",
    "CYAN_G = \"#0CF7AF\"\n",
    "CYAB_DARK = \"#11AB7C\"\n",
    "\n",
    "PURPLE = \"#D826F8\"\n",
    "PURPLE_DARJ = \"#9309AB\"\n",
    "PURPLE_L = \"#b683d6\"\n",
    "\n",
    "BLUE = \"#0C97FA\"\n",
    "RED = \"#FA1D19\"\n",
    "ORANGE = \"#FA9F19\"\n",
    "GREEN = \"#0CFA58\"\n",
    "LIGTH_BLUE = \"#01FADC\"\n",
    "S_BLUE = \"#81c9e6\"\n",
    "DARK_BLUE = \"#394be6\"\n",
    "# Palettes\n",
    "PALETTE_2 = [CYAN_G, PURPLE]\n",
    "PALETTE_3 = [YELLOW, CYAN_G, PURPLE]\n",
    "PALETTE_4 = [YELLOW, ORANGE, PURPLE, LIGTH_BLUE]\n",
    "PALETTE_5 = [PURPLE_DARJ, PURPLE_L, PURPLE, BLUE, LIGTH_BLUE]\n",
    "PALETTE_6 = [BLUE, RED, ORANGE, GREEN, LIGTH_BLUE, PURPLE]\n",
    "\n",
    "# Vaporwave palette by Francesc Oliveras\n",
    "PALETTE_7 = [PURPLE_DARJ, PURPLE_L, PURPLE, BLUE, LIGTH_BLUE, DARK_BLUE, S_BLUE]\n",
    "PALETTE_7_C = [PURPLE_DARJ, BLUE, PURPLE, LIGTH_BLUE, PURPLE_L, S_BLUE, DARK_BLUE]\n",
    "INCLUDE_ORIGINAL = True\n",
    "RANDOM_STATE = 500\n",
    "\n",
    "sns.palplot(sns.color_palette(PALETTE_7))\n",
    "\n",
    "# Set Style\n",
    "sns.set_style(\"whitegrid\")\n",
    "sns.despine(left=True, bottom=True)\n",
    "\n",
    "cmap = mcolors.LinearSegmentedColormap.from_list(\"\", PALETTE_2)\n",
    "cmap_2 = mcolors.LinearSegmentedColormap.from_list(\"\", [S_BLUE, PURPLE_DARJ])\n",
    "\n",
    "font_family = dict(layout=go.Layout(font=dict(family=\"Franklin Gothic\", size=10), width=1000, height=500))"
   ]
  },
  {
   "cell_type": "markdown",
   "id": "6eaa53b5",
   "metadata": {
    "papermill": {
     "duration": 0.013142,
     "end_time": "2023-06-13T19:25:13.771257",
     "exception": false,
     "start_time": "2023-06-13T19:25:13.758115",
     "status": "completed"
    },
    "tags": []
   },
   "source": [
    "## <p style=\"font-family:Consolas Mono; font-weight:normal; letter-spacing: 2px; color:#06D1C7; font-size:130%; text-align:left;padding: 0px; border-bottom: 3px solid #008F77\">Constants</p>"
   ]
  },
  {
   "cell_type": "code",
   "execution_count": 4,
   "id": "655b389a",
   "metadata": {
    "execution": {
     "iopub.execute_input": "2023-06-13T19:25:13.802752Z",
     "iopub.status.busy": "2023-06-13T19:25:13.801510Z",
     "iopub.status.idle": "2023-06-13T19:25:13.811912Z",
     "shell.execute_reply": "2023-06-13T19:25:13.810430Z"
    },
    "papermill": {
     "duration": 0.03151,
     "end_time": "2023-06-13T19:25:13.816266",
     "exception": false,
     "start_time": "2023-06-13T19:25:13.784756",
     "status": "completed"
    },
    "tags": []
   },
   "outputs": [],
   "source": [
    "PATH = \"/kaggle/input/playground-series-s3e17\"\n",
    "TEST_FILENAME = \"test.csv\"\n",
    "TRAIN_FILENAME = \"train.csv\"\n",
    "SUBMISSION_FILENAME = \"sample_submission.csv\"\n",
    "ORIGINAL_PATH = \"/kaggle/input/machine-failure-predictions/machine failure.csv\"\n",
    "\n",
    "# Data dir\n",
    "TRAIN_DIR = os.path.join(PATH, TRAIN_FILENAME)\n",
    "TEST_DIR = os.path.join(PATH, TEST_FILENAME)\n",
    "SUBMISSION_DIR = os.path.join(PATH, SUBMISSION_FILENAME)"
   ]
  },
  {
   "cell_type": "code",
   "execution_count": 5,
   "id": "052a9ab2",
   "metadata": {
    "execution": {
     "iopub.execute_input": "2023-06-13T19:25:13.841424Z",
     "iopub.status.busy": "2023-06-13T19:25:13.840653Z",
     "iopub.status.idle": "2023-06-13T19:25:13.846635Z",
     "shell.execute_reply": "2023-06-13T19:25:13.845705Z"
    },
    "papermill": {
     "duration": 0.018525,
     "end_time": "2023-06-13T19:25:13.849101",
     "exception": false,
     "start_time": "2023-06-13T19:25:13.830576",
     "status": "completed"
    },
    "tags": []
   },
   "outputs": [],
   "source": [
    "ID = \"id\"\n",
    "PRODUCT_ID = \"Product ID\"\n",
    "TYPE = \"Type\"\n",
    "AIR_TEMPERATURE = \"Air temperature [K]\"\n",
    "PROCESS_TEMPERATURE = \"Process temperature [K]\"\n",
    "ROTATIONAL_SPEED = \"Rotational speed [rpm]\"\n",
    "TORQUE = \"Torque [Nm]\"\n",
    "TOOL_WEAR = \"Tool wear [min]\"\n",
    "MACHINE_FAILURE = \"Machine failure\"\n",
    "TWF = \"TWF\"\n",
    "HDF = \"HDF\"\n",
    "PWF = \"PWF\"\n",
    "OSF = \"OSF\"\n",
    "RNF = \"RNF\"\n",
    "\n",
    "TARGET = \"\""
   ]
  },
  {
   "cell_type": "markdown",
   "id": "fec0139f",
   "metadata": {
    "papermill": {
     "duration": 0.006339,
     "end_time": "2023-06-13T19:25:13.862264",
     "exception": false,
     "start_time": "2023-06-13T19:25:13.855925",
     "status": "completed"
    },
    "tags": []
   },
   "source": [
    "## <p style=\"font-family:Consolas Mono; font-weight:normal; letter-spacing: 2px; color:#06D1C7; font-size:130%; text-align:left;padding: 0px; border-bottom: 3px solid #008F77\">Functions</p>"
   ]
  },
  {
   "cell_type": "code",
   "execution_count": 6,
   "id": "37eaf00d",
   "metadata": {
    "execution": {
     "iopub.execute_input": "2023-06-13T19:25:13.880213Z",
     "iopub.status.busy": "2023-06-13T19:25:13.877517Z",
     "iopub.status.idle": "2023-06-13T19:25:13.886493Z",
     "shell.execute_reply": "2023-06-13T19:25:13.885537Z"
    },
    "papermill": {
     "duration": 0.019831,
     "end_time": "2023-06-13T19:25:13.888969",
     "exception": false,
     "start_time": "2023-06-13T19:25:13.869138",
     "status": "completed"
    },
    "tags": []
   },
   "outputs": [],
   "source": [
    "def show_corr_heatmap(df, title):\n",
    "    \n",
    "    corr = df.corr()\n",
    "    mask = np.zeros_like(corr)\n",
    "    mask[np.triu_indices_from(mask)] = True\n",
    "\n",
    "    plt.figure(figsize = (15, 10))\n",
    "    plt.title(title)\n",
    "    sns.heatmap(corr, annot = True, linewidths=.5, fmt=\".2f\", square=True, mask = mask, cmap=cmap_2)\n",
    "    plt.show()"
   ]
  },
  {
   "cell_type": "code",
   "execution_count": 7,
   "id": "2df268de",
   "metadata": {
    "execution": {
     "iopub.execute_input": "2023-06-13T19:25:13.904694Z",
     "iopub.status.busy": "2023-06-13T19:25:13.904020Z",
     "iopub.status.idle": "2023-06-13T19:25:13.912207Z",
     "shell.execute_reply": "2023-06-13T19:25:13.910871Z"
    },
    "papermill": {
     "duration": 0.018874,
     "end_time": "2023-06-13T19:25:13.914798",
     "exception": false,
     "start_time": "2023-06-13T19:25:13.895924",
     "status": "completed"
    },
    "tags": []
   },
   "outputs": [],
   "source": [
    "def data_description(df):\n",
    "    print(\"Data description\")\n",
    "    print(f\"Total number of records {df.shape[0]}\")\n",
    "    print(f'number of features {df.shape[1]}\\n\\n')\n",
    "    columns = df.columns\n",
    "    data_type = []\n",
    "    \n",
    "    # Get the datatype of features\n",
    "    for col in df.columns:\n",
    "        data_type.append(df[col].dtype)\n",
    "        \n",
    "    n_uni = df.nunique()\n",
    "    # Number of NaN values\n",
    "    n_miss = df.isna().sum()\n",
    "    \n",
    "    names = list(zip(columns, data_type, n_uni, n_miss))\n",
    "    variable_desc = pd.DataFrame(names, columns=[\"Name\",\"Type\",\"Unique levels\",\"Missing\"])\n",
    "    print(variable_desc)"
   ]
  },
  {
   "cell_type": "code",
   "execution_count": 8,
   "id": "c0b4d8c1",
   "metadata": {
    "execution": {
     "iopub.execute_input": "2023-06-13T19:25:13.930823Z",
     "iopub.status.busy": "2023-06-13T19:25:13.930411Z",
     "iopub.status.idle": "2023-06-13T19:25:13.938242Z",
     "shell.execute_reply": "2023-06-13T19:25:13.937068Z"
    },
    "papermill": {
     "duration": 0.019271,
     "end_time": "2023-06-13T19:25:13.940758",
     "exception": false,
     "start_time": "2023-06-13T19:25:13.921487",
     "status": "completed"
    },
    "tags": []
   },
   "outputs": [],
   "source": [
    "def show_distance(df, title=\"Show distance\"):\n",
    "    hierarchy.set_link_color_palette(PALETTE_7_C)\n",
    "    # Calculate the Spearman correlation matrix\n",
    "    correlation = df.corr(method='spearman')\n",
    "    \n",
    "    # Calculate the distance matrix using the absolute correlation values\n",
    "    dist = linkage(squareform(1 - abs(correlation)), 'complete')\n",
    "    \n",
    "    # Create a new figure for the dendrogram plot\n",
    "    plt.figure(figsize=(8, 4), dpi=100)\n",
    "    dn = dendrogram(dist, labels=df.columns, above_threshold_color=PALETTE_3[2], orientation='right')\n",
    "    hierarchy.set_link_color_palette(None)\n",
    "    \n",
    "    plt.title(title, size=20, weight='bold')\n",
    "    plt.show()"
   ]
  },
  {
   "cell_type": "code",
   "execution_count": 9,
   "id": "983e3ebb",
   "metadata": {
    "execution": {
     "iopub.execute_input": "2023-06-13T19:25:13.955799Z",
     "iopub.status.busy": "2023-06-13T19:25:13.955434Z",
     "iopub.status.idle": "2023-06-13T19:25:13.966827Z",
     "shell.execute_reply": "2023-06-13T19:25:13.966012Z"
    },
    "papermill": {
     "duration": 0.021689,
     "end_time": "2023-06-13T19:25:13.969111",
     "exception": false,
     "start_time": "2023-06-13T19:25:13.947422",
     "status": "completed"
    },
    "tags": []
   },
   "outputs": [],
   "source": [
    "def pie_plot_cat(df: pd.DataFrame, column: str, hover_temp: str = \"Status: \",\n",
    "             palette=None, color=None, title=\"Target distribution\", height=600):\n",
    "    target = df[column].value_counts(normalize=True).sort_index().round(decimals=3) * 100\n",
    "    num_values = len(target.index)\n",
    "    \n",
    "    if palette is None:\n",
    "        palette = [LIGTH_BLUE] * num_values  # Set a default color palette\n",
    "    \n",
    "    if color is None:\n",
    "        color = [BLUE] * num_values  # Set a default color list\n",
    "    \n",
    "    fig = go.Figure()\n",
    "    \n",
    "    fig.add_trace(go.Pie(labels=target.index, values=target, hole=.4,\n",
    "                         sort=False, showlegend=True,\n",
    "                         marker=dict(colors=color, line=dict(color=palette, width=2)),\n",
    "                         hovertemplate=\"%{label} \" + hover_temp + \": %{value:.2f}%<extra></extra>\"))\n",
    "    \n",
    "    fig.update_layout(template=font_family, title=title, \n",
    "                      legend=dict(traceorder='reversed', y=1.05, x=0),\n",
    "                      uniformtext_minsize=15, uniformtext_mode='hide', height=height)\n",
    "    fig.show()"
   ]
  },
  {
   "cell_type": "code",
   "execution_count": 10,
   "id": "de0eb910",
   "metadata": {
    "execution": {
     "iopub.execute_input": "2023-06-13T19:25:13.984559Z",
     "iopub.status.busy": "2023-06-13T19:25:13.984096Z",
     "iopub.status.idle": "2023-06-13T19:25:13.993332Z",
     "shell.execute_reply": "2023-06-13T19:25:13.992147Z"
    },
    "papermill": {
     "duration": 0.019948,
     "end_time": "2023-06-13T19:25:13.995782",
     "exception": false,
     "start_time": "2023-06-13T19:25:13.975834",
     "status": "completed"
    },
    "tags": []
   },
   "outputs": [],
   "source": [
    "## Boolean values only\n",
    "def pie_plot(df: pd.DataFrame, hover_temp: str = \"Status: \",\n",
    "            feature=TARGET, palette=[LIGTH_BLUE,\"#221e8f\"], color=[BLUE ,DARK_BLUE],\n",
    "            title=\"Target distribution\"):\n",
    "#     df[feature] = df[feature].replace({0: \"Not cancelled \", 1: \"Cancelled\"})\n",
    "    target = df[[feature]].value_counts(normalize=True).sort_index().round(decimals=3)*100\n",
    "    fig = go.Figure()\n",
    "    \n",
    "    fig.add_trace(go.Pie(labels=target.index, values=target, hole=.4,\n",
    "                        sort=False, showlegend=True, marker=dict(colors=color, line=dict(color=palette,width=2)),\n",
    "                        hovertemplate = \"%{label} \" + hover_temp + \": %{value:.2f}%<extra></extra>\"))\n",
    "    \n",
    "    fig.update_layout(template=font_family, title=title, \n",
    "                  legend=dict(traceorder='reversed',y=1.05,x=0),\n",
    "                  uniformtext_minsize=15, uniformtext_mode='hide',height=600)\n",
    "    fig.show()"
   ]
  },
  {
   "cell_type": "markdown",
   "id": "3852c06d",
   "metadata": {
    "papermill": {
     "duration": 0.007157,
     "end_time": "2023-06-13T19:25:14.009509",
     "exception": false,
     "start_time": "2023-06-13T19:25:14.002352",
     "status": "completed"
    },
    "tags": []
   },
   "source": [
    "## <p style=\"font-family:Consolas Mono; font-weight:normal; letter-spacing: 2px; color:#06D1C7; font-size:130%; text-align:left;padding: 0px; border-bottom: 3px solid #008F77\">Import data</p>"
   ]
  },
  {
   "cell_type": "code",
   "execution_count": 11,
   "id": "7805091f",
   "metadata": {
    "execution": {
     "iopub.execute_input": "2023-06-13T19:25:14.025182Z",
     "iopub.status.busy": "2023-06-13T19:25:14.024337Z",
     "iopub.status.idle": "2023-06-13T19:25:14.668468Z",
     "shell.execute_reply": "2023-06-13T19:25:14.667599Z"
    },
    "papermill": {
     "duration": 0.655268,
     "end_time": "2023-06-13T19:25:14.671376",
     "exception": false,
     "start_time": "2023-06-13T19:25:14.016108",
     "status": "completed"
    },
    "tags": []
   },
   "outputs": [],
   "source": [
    "train_df = pd.read_csv(TRAIN_DIR)\n",
    "test_df = pd.read_csv(TEST_DIR)\n",
    "submission_df = pd.read_csv(SUBMISSION_DIR)\n",
    "original_df = pd.read_csv(ORIGINAL_PATH)"
   ]
  },
  {
   "cell_type": "code",
   "execution_count": 12,
   "id": "1dcbc39f",
   "metadata": {
    "execution": {
     "iopub.execute_input": "2023-06-13T19:25:14.688385Z",
     "iopub.status.busy": "2023-06-13T19:25:14.687324Z",
     "iopub.status.idle": "2023-06-13T19:25:14.694178Z",
     "shell.execute_reply": "2023-06-13T19:25:14.693270Z"
    },
    "papermill": {
     "duration": 0.018139,
     "end_time": "2023-06-13T19:25:14.696504",
     "exception": false,
     "start_time": "2023-06-13T19:25:14.678365",
     "status": "completed"
    },
    "tags": []
   },
   "outputs": [
    {
     "data": {
      "text/plain": [
       "Index(['id', 'Product ID', 'Type', 'Air temperature [K]',\n",
       "       'Process temperature [K]', 'Rotational speed [rpm]', 'Torque [Nm]',\n",
       "       'Tool wear [min]', 'Machine failure', 'TWF', 'HDF', 'PWF', 'OSF',\n",
       "       'RNF'],\n",
       "      dtype='object')"
      ]
     },
     "execution_count": 12,
     "metadata": {},
     "output_type": "execute_result"
    }
   ],
   "source": [
    "train_df.head()\n",
    "train_df.columns"
   ]
  }
 ],
 "metadata": {
  "kernelspec": {
   "display_name": "Python 3",
   "language": "python",
   "name": "python3"
  },
  "language_info": {
   "codemirror_mode": {
    "name": "ipython",
    "version": 3
   },
   "file_extension": ".py",
   "mimetype": "text/x-python",
   "name": "python",
   "nbconvert_exporter": "python",
   "pygments_lexer": "ipython3",
   "version": "3.10.10"
  },
  "papermill": {
   "default_parameters": {},
   "duration": 18.589609,
   "end_time": "2023-06-13T19:25:15.826321",
   "environment_variables": {},
   "exception": null,
   "input_path": "__notebook__.ipynb",
   "output_path": "__notebook__.ipynb",
   "parameters": {},
   "start_time": "2023-06-13T19:24:57.236712",
   "version": "2.4.0"
  }
 },
 "nbformat": 4,
 "nbformat_minor": 5
}
